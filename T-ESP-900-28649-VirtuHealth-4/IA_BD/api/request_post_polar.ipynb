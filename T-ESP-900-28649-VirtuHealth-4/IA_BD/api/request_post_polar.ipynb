{
 "cells": [
  {
   "cell_type": "code",
   "execution_count": 67,
   "metadata": {},
   "outputs": [],
   "source": [
    "import requests\n",
    "from requests.auth import HTTPBasicAuth\n",
    "\n",
    "CLIENT_ID = \"9fa6e5fc-ed8a-4473-a0a8-3bc01eb2de94\"\n",
    "CLIENT_SECRET = \"d50efeea-1401-4d72-96b9-76e970dbf8aa\"\n",
    "\n",
    "URL = \"https://polarremote.com/v2/oauth2/token\""
   ]
  },
  {
   "cell_type": "code",
   "execution_count": 68,
   "metadata": {},
   "outputs": [],
   "source": [
    "code = \"929021214467f18a0243216bc0bed7f4\""
   ]
  },
  {
   "cell_type": "code",
   "execution_count": 69,
   "metadata": {},
   "outputs": [
    {
     "data": {
      "text/plain": [
       "{'error': 'invalid_request'}"
      ]
     },
     "execution_count": 69,
     "metadata": {},
     "output_type": "execute_result"
    }
   ],
   "source": [
    "token_endpoint = requests.post(\n",
    "    url=URL,\n",
    "    data={\n",
    "        \"grant_type\": \"authorization_code\",\n",
    "        \"code\": code\n",
    "    },\n",
    "    auth=HTTPBasicAuth(CLIENT_ID, CLIENT_SECRET)\n",
    ")\n",
    "\n",
    "token_endpoint.json()"
   ]
  }
 ],
 "metadata": {
  "kernelspec": {
   "display_name": "Python 3",
   "language": "python",
   "name": "python3"
  },
  "language_info": {
   "codemirror_mode": {
    "name": "ipython",
    "version": 3
   },
   "file_extension": ".py",
   "mimetype": "text/x-python",
   "name": "python",
   "nbconvert_exporter": "python",
   "pygments_lexer": "ipython3",
   "version": "3.11.1"
  },
  "orig_nbformat": 4,
  "vscode": {
   "interpreter": {
    "hash": "ead1b95f633dc9c51826328e1846203f51a198c6fb5f2884a80417ba131d4e82"
   }
  }
 },
 "nbformat": 4,
 "nbformat_minor": 2
}
