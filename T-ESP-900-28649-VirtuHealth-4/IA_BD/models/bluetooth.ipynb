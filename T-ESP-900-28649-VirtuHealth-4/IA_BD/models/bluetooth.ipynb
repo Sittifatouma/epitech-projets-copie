{
 "cells": [
  {
   "attachments": {},
   "cell_type": "markdown",
   "metadata": {},
   "source": [
    "# Bluetooth"
   ]
  },
  {
   "cell_type": "code",
   "execution_count": 1,
   "metadata": {},
   "outputs": [
    {
     "ename": "ModuleNotFoundError",
     "evalue": "No module named 'bluetooth'",
     "output_type": "error",
     "traceback": [
      "\u001b[0;31m---------------------------------------------------------------------------\u001b[0m",
      "\u001b[0;31mModuleNotFoundError\u001b[0m                       Traceback (most recent call last)",
      "\u001b[1;32m/home/louis/Epitech/MSC2/T-ESP-900-28649-VirtuHealth-4/IA_BD/models/bluetooth.ipynb Cell 2\u001b[0m in \u001b[0;36m1\n\u001b[0;32m----> <a href='vscode-notebook-cell:/home/louis/Epitech/MSC2/T-ESP-900-28649-VirtuHealth-4/IA_BD/models/bluetooth.ipynb#W1sZmlsZQ%3D%3D?line=0'>1</a>\u001b[0m \u001b[39mimport\u001b[39;00m \u001b[39mbluetooth\u001b[39;00m\n",
      "\u001b[0;31mModuleNotFoundError\u001b[0m: No module named 'bluetooth'"
     ]
    }
   ],
   "source": [
    "import bluetooth"
   ]
  },
  {
   "cell_type": "code",
   "execution_count": null,
   "metadata": {},
   "outputs": [],
   "source": [
    "def scan():\n",
    "    print(\"Scanning for bluetooth devices:\")\n",
    "    devices = bluetooth.discover_devices(lookup_names = True, lookup_class = True)\n",
    "    number_of_devices = len(devices)\n",
    "\n",
    "    print(number_of_devices,\"devices found\")\n",
    "\n",
    "    for addr, name, device_class in devices:\n",
    "        print(\"Device:\")\n",
    "        print(\"Device Name: %s\" % (name))\n",
    "        print(\"Device MAC Address: %s\" % (addr))\n",
    "        print(\"Device Class: %s\" % (device_class))\n",
    "\n",
    "    return"
   ]
  },
  {
   "cell_type": "code",
   "execution_count": null,
   "metadata": {},
   "outputs": [],
   "source": [
    "scan()"
   ]
  },
  {
   "cell_type": "code",
   "execution_count": null,
   "metadata": {},
   "outputs": [],
   "source": [
    "def scan_services():\n",
    "   print(\"Scanning for bluetooth devices: \")\n",
    "   devices = bluetooth.discover_devices(lookup_names = True)\n",
    "   number_of_devices = len(devices)\n",
    "\n",
    "   print(number_of_devices, \"devices found\")\n",
    "\n",
    "   for addr,name in devices:\n",
    "      print(\"Device Name: %s\" % (name))\n",
    "      print(\"Device MAC Address: %s\" % (addr))\n",
    "      print(\"Services Found:\")\n",
    "\n",
    "      services = bluetooth.find_service(address=addr)\n",
    "\n",
    "      if len(services) <=0:\n",
    "          print(\"zero services found on\", addr)\n",
    "\n",
    "      else:\n",
    "          for serv in services:\n",
    "              print(serv['name'])\n",
    "\n",
    "   return"
   ]
  },
  {
   "cell_type": "code",
   "execution_count": null,
   "metadata": {},
   "outputs": [],
   "source": [
    "scan_services()"
   ]
  }
 ],
 "metadata": {
  "kernelspec": {
   "display_name": "Models",
   "language": "python",
   "name": "models"
  },
  "language_info": {
   "codemirror_mode": {
    "name": "ipython",
    "version": 3
   },
   "file_extension": ".py",
   "mimetype": "text/x-python",
   "name": "python",
   "nbconvert_exporter": "python",
   "pygments_lexer": "ipython3",
   "version": "3.11.2"
  },
  "orig_nbformat": 4
 },
 "nbformat": 4,
 "nbformat_minor": 2
}
