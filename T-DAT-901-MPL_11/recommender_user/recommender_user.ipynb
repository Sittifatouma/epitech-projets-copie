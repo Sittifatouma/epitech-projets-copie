{
 "cells": [
  {
   "cell_type": "code",
   "execution_count": 3,
   "metadata": {},
   "outputs": [],
   "source": [
    "import pandas as pd\n",
    "import numpy as np\n",
    "import matplotlib.pyplot as plt\n",
    "from datetime import datetime\n",
    "import calendar\n",
    "import random\n",
    "\n",
    "\n"
   ]
  },
  {
   "cell_type": "code",
   "execution_count": 4,
   "metadata": {},
   "outputs": [],
   "source": [
    "data = pd.read_csv(\"data.csv\")"
   ]
  },
  {
   "cell_type": "code",
   "execution_count": 9,
   "metadata": {},
   "outputs": [],
   "source": [
    "df = pd.read_csv(\"KaDo.csv\") #1490281"
   ]
  },
  {
   "cell_type": "code",
   "execution_count": 58,
   "metadata": {},
   "outputs": [],
   "source": [
    "def feature_article_month ():\n",
    "    # Récupération de la date actuelle\n",
    "    now = datetime.now()\n",
    "\n",
    "    # Extraction du mois courant\n",
    "    month = now.month\n",
    "\n",
    "\n",
    "    # Filtrage du dataframe pour ne conserver que les lignes du mois courant\n",
    "    df_filtered_m = df[df['MOIS_VENTE'] == month]\n",
    "\n",
    "    # Regroupement des lignes par famille et comptage du nombre de lignes par famille\n",
    "    df_grouped_m = df_filtered_m.groupby('FAMILLE').agg('count')\n",
    "\n",
    "    # Récupération de la famille la plus achetée au mois courant\n",
    "    most_bought_family = df_grouped_m['TICKET_ID'].idxmax()\n",
    "\n",
    "    # Filtrage du dataframe pour ne conserver que les lignes de la famille la plus acheté au mois courant\n",
    "    df_filtered_l = df[df['FAMILLE'] == most_bought_family]\n",
    "\n",
    "    # Regroupement des lignes par libelle et comptage du nombre de lignes par libelle\n",
    "    df_grouped_l = df_filtered_m.groupby('LIBELLE').agg('count')\n",
    "\n",
    "    # Récupération du libellel le plus achetée au mois courant\n",
    "    most_bought_libelle = df_grouped_l['TICKET_ID'].idxmax()\n",
    "    article_price = df[df['LIBELLE'] == most_bought_libelle]['PRIX_NET'].values[0]\n",
    "    \n",
    "    return [most_bought_libelle,article_price]\n",
    "\n",
    "\n",
    "\n"
   ]
  },
  {
   "cell_type": "code",
   "execution_count": 60,
   "metadata": {},
   "outputs": [
    {
     "data": {
      "text/plain": [
       "3.5"
      ]
     },
     "execution_count": 60,
     "metadata": {},
     "output_type": "execute_result"
    }
   ],
   "source": [
    "feature_article_month()[1]"
   ]
  },
  {
   "cell_type": "code",
   "execution_count": 30,
   "metadata": {},
   "outputs": [
    {
     "data": {
      "text/plain": [
       "<bound method NDFrame.head of          TICKET_ID  MOIS_VENTE  PRIX_NET          FAMILLE  \\\n",
       "0         35592159          10      1.67          HYGIENE   \n",
       "1         35592159          10      1.66          HYGIENE   \n",
       "2         35592159          10      7.45  SOINS DU VISAGE   \n",
       "3         35592159          10      5.95  SOINS DU VISAGE   \n",
       "4         35592159          10      1.67          HYGIENE   \n",
       "...            ...         ...       ...              ...   \n",
       "7245517   35448190           9      2.50   SOINS DU CORPS   \n",
       "7245518   35448190           9      3.00          HYGIENE   \n",
       "7245519   36105678          12      7.90       MAQUILLAGE   \n",
       "7245520   36105678          12     11.45       MAQUILLAGE   \n",
       "7245521   36105678          12      4.45       MAQUILLAGE   \n",
       "\n",
       "                             UNIVERS                       MAILLE  \\\n",
       "0             HYG_DOUCHE JARDINMONDE                      HYG_JDM   \n",
       "1             HYG_DOUCHE JARDINMONDE                      HYG_JDM   \n",
       "2        VIS_CJOUR Jeunes Specifique           VIS_JEUNE_ET_LEVRE   \n",
       "3                     VIS_DEMAQ AAAR         VIS_AAAR_DEMAQLOTION   \n",
       "4             HYG_DOUCHE JARDINMONDE                      HYG_JDM   \n",
       "...                              ...                          ...   \n",
       "7245517         CORPS_SOIN DES MAINS  CORPS_HYDRA_NOURRI_ET_SOINS   \n",
       "7245518       HYG_DOUCHE JARDINMONDE                      HYG_JDM   \n",
       "7245519             MAQ_YEUX Crayons           MAQ_YEUX_CLASSIQUE   \n",
       "7245520      MAQ_YEUX Mascara Elixir            MAQ_YEUX_MASCA_HG   \n",
       "7245521            MAQ_ONG Vernis CN                   MAQ_ONGLES   \n",
       "\n",
       "                                          LIBELLE     CLI_ID  \n",
       "0                   GD JDM4 PAMPLEMOUSSE FL 200ML    1490281  \n",
       "1                   GD JDM4 PAMPLEMOUSSE FL 200ML    1490281  \n",
       "2                 CR JR PARF BIO.SPE AC.SENT.50ML    1490281  \n",
       "3                   EAU MICELLAIRE 3 THES FL200ML    1490281  \n",
       "4                          GD JDM4 TIARE FL 200ML    1490281  \n",
       "...                                           ...        ...  \n",
       "7245517              SVC CR MAINS ET ONGLES T75ml  997385337  \n",
       "7245518        GD JDM4 LAVANDIN DE PROVENCE 200ML  997385337  \n",
       "7245519              CRAYON REGARD PRUNE CN3 1.3G  997385337  \n",
       "7245520          MASCARA SOIN NOIR01 2014 CN3 9ML  997385337  \n",
       "7245521  VAO BRIL CERISE NOIRE113 ETE14 CN3 5,5ML  997385337  \n",
       "\n",
       "[7245522 rows x 8 columns]>"
      ]
     },
     "execution_count": 30,
     "metadata": {},
     "output_type": "execute_result"
    }
   ],
   "source": [
    "df.head"
   ]
  },
  {
   "cell_type": "code",
   "execution_count": 79,
   "metadata": {},
   "outputs": [],
   "source": [
    "def algo1(client_id,df,data):\n",
    " \n",
    "    client_family = df[df['CLI_ID'] == client_id]['FAMILLE'].values[0]\n",
    "    data = data[data['FAMILLE'] == client_family]\n",
    "    # Comptage du nombre d'univers par client\n",
    "    univers_counts = data['UNIVERS'].value_counts()\n",
    "    # Trouver l'univers le plus fréquent\n",
    "    univers_frequent = univers_counts.idxmax()\n",
    "    df = df[df['UNIVERS'] == univers_frequent]\n",
    "    # Comptage du nombre d'article par client\n",
    "    article_counts = df['LIBELLE'].value_counts()\n",
    "    # Trouver l'article le plus fréquent\n",
    "    article_frequent = article_counts.nlargest(5)\n",
    "    random_index = random.randint(0, 4)\n",
    "    article_name = article_frequent.index[random_index]\n",
    "    article_price = df[df['LIBELLE'] == article_name]['PRIX_NET'].values[0]\n",
    "    \n",
    "    return [article_name, article_price]\n",
    "        \n",
    "   \n"
   ]
  },
  {
   "cell_type": "code",
   "execution_count": 75,
   "metadata": {},
   "outputs": [
    {
     "name": "stdout",
     "output_type": "stream",
     "text": [
      "type id =<class 'int'>\n",
      "\n",
      "1.47\n"
     ]
    }
   ],
   "source": [
    "#1490281\n",
    "print(algo1(20561854,df,data)[1])"
   ]
  },
  {
   "cell_type": "code",
   "execution_count": 61,
   "metadata": {},
   "outputs": [],
   "source": [
    "def algo2(client_id,df,data):\n",
    "\n",
    "     # Filtrage des clients avec prix_moyen inférieur de 1 euro et supérieur d'un 1 euro du client id 389163338\n",
    "    data = data[(data[\"('PRIX_NET', 'mean')\"] > data.loc[data['CLI_ID'] == client_id, \"('PRIX_NET', 'mean')\"].values[0] - 0.5) & (data[\"('PRIX_NET', 'mean')\"] < data.loc[data['CLI_ID'] == client_id, \"('PRIX_NET', 'mean')\"].values[0] + 0.5)]\n",
    "\n",
    "    # Comptage du nombre de clients par famille\n",
    "    famille_counts = data['FAMILLE'].value_counts()\n",
    "\n",
    "    # Trouver la famille la plus fréquente\n",
    "    famille_frequent = famille_counts.idxmax()\n",
    "\n",
    "    # Filtrage des clients qui ont la famille la plus fréquente\n",
    "    data = data[data['FAMILLE'] == famille_frequent]\n",
    "\n",
    "    # Comptage du nombre d'univers par client\n",
    "    univers_counts = data['UNIVERS'].value_counts()\n",
    "\n",
    "    # Trouver l'univers le plus fréquent\n",
    "    univers_frequent = univers_counts.idxmax()\n",
    "\n",
    "    # Ajouté l'article \n",
    "\n",
    "    df = df[df['UNIVERS'] == univers_frequent]\n",
    "\n",
    "    # Comptage du nombre d'article par client\n",
    "    article_counts = df['LIBELLE'].value_counts()\n",
    "\n",
    "    # Trouver l'article le plus fréquent\n",
    "    article_frequent = article_counts.idxmax()\n",
    "\n",
    "\n",
    "    article_name = article_frequent\n",
    "    article_price = df[df['LIBELLE'] == article_name]['PRIX_NET'].values[0]\n",
    "    return [article_name, article_price]\n"
   ]
  },
  {
   "cell_type": "code",
   "execution_count": 68,
   "metadata": {},
   "outputs": [
    {
     "name": "stdout",
     "output_type": "stream",
     "text": [
      "GD JDM4 LOTUS FL200ML\n"
     ]
    }
   ],
   "source": [
    "#GD JDM4 LOTUS FL200ML\n",
    "print(algo2(20561854,df,data)[0])"
   ]
  },
  {
   "cell_type": "code",
   "execution_count": 80,
   "metadata": {},
   "outputs": [
    {
     "name": "stdout",
     "output_type": "stream",
     "text": [
      "************ Déscription statique du client 1490281 ************ \n",
      "\n",
      "Mois ou le client à fait plus d'achat: October\n",
      "\n",
      "La petite somme que le client à dépenser: 1.66\n",
      "\n",
      "La plus grande somme que le client à dépenser: 7.45\n",
      "\n",
      "La somme moyenne que le client à dépenser: 3.68\n",
      "\n",
      "Famille dans laquelle le client à le plus réaliser d’achat: SOINS DU VISAGE\n",
      "\n",
      "Univers dans lequelle le client à le plus réaliser d’achat: VIS_DEMAQ AAAR\n",
      "\n",
      "Maille dans laquelle le client à le plus réaliser d’achat: VIS_AAAR_DEMAQLOTION\n",
      "\n",
      "\n",
      "\n",
      "************ Récommendation de cadeau 1490281 ************ \n",
      "\n",
      "*** 1er récommendation ***\n",
      "\n",
      "Produit phare du mois : DEMAQ EXPRESS PUR BLEUET FL125ML, Prix : 3.5 € \n",
      "\n",
      "\n",
      "*** 2éme récommendation ***\n",
      "\n",
      "Nous utiliserons l'Algo 1 , basé sur les hhabitudes des clients partageant la même famille fréquent que le clients. \n",
      " Si ce produit est un peu trop cher pour notre client, nous utiliserons l'Algo 2. L'Algo 2 permet de proposer une suggestion personnalisée en fonction des habitudes d'achat et du budget du client.\n",
      "\n",
      "\n",
      "Algo 1 , Parceque des clients qui ont la même famille fréquent que lui, achete habituellement ce produit : GD JDM4 LAVANDIN DE PROVENCE 200ML au prix de :1.5 €\n"
     ]
    }
   ],
   "source": [
    "def user_recommendation():\n",
    "    prix = 15\n",
    "    id_cl = input (\"Saisissez l'identifiant du client ?\")\n",
    "    info = data[data[\"CLI_ID\"] == int(id_cl)]\n",
    "    if info.empty:\n",
    "        print (\"Identifiant client non valide\")\n",
    "    else :\n",
    "        print(\"************ Déscription statique du client \"+id_cl+\" ************ \\n\")\n",
    "\n",
    "        print(\"Mois ou le client à fait plus d'achat: \"+calendar.month_name[info.iloc[0][\"MOIS_VENTE\"]]+\"\\n\")\n",
    "        print(\"La petite somme que le client à dépenser: \"+str(info.iloc[0][\"('PRIX_NET', 'min')\"])+\"\\n\")\n",
    "        print(\"La plus grande somme que le client à dépenser: \"+str(info.iloc[0][\"('PRIX_NET', 'max')\"])+\"\\n\")\n",
    "        print(\"La somme moyenne que le client à dépenser: \"+str(info.iloc[0][\"('PRIX_NET', 'mean')\"])+\"\\n\")\n",
    "        print(\"Famille dans laquelle le client à le plus réaliser d’achat: \"+info.iloc[0][\"FAMILLE\"]+\"\\n\")\n",
    "        print(\"Univers dans lequelle le client à le plus réaliser d’achat: \"+info.iloc[0][\"UNIVERS\"]+\"\\n\")\n",
    "        print(\"Maille dans laquelle le client à le plus réaliser d’achat: \"+info.iloc[0][\"MAILLE\"]+\"\\n\\n\\n\")\n",
    "\n",
    "\n",
    "        print(\"************ Récommendation de cadeau \"+id_cl+\" ************ \\n\")\n",
    "        \n",
    "        print(\"*** 1er récommendation ***\\n\")\n",
    "\n",
    "        print(\"Produit phare du mois : \"+ feature_article_month ()[0] +\", Prix : \"+ str(feature_article_month ()[1])+\" € \\n\\n\")\n",
    "      \n",
    "\n",
    "        print(\"*** 2éme récommendation ***\\n\")\n",
    "        print(\"Nous utiliserons l'Algo 1 , basé sur les hhabitudes des clients partageant la même famille fréquent que le clients. \\n Si ce produit est un peu trop cher pour notre client, nous utiliserons l'Algo 2. L'Algo 2 permet de proposer une suggestion personnalisée en fonction des habitudes d'achat et du budget du client.\\n\\n\")\n",
    "\n",
    "        if(algo1(int(id_cl),df,data)[1]) <= (info.iloc[0][\"('PRIX_NET', 'mean')\"] + 5):\n",
    "            print(\"Algo 1 , Parceque des clients qui ont la même famille fréquent que lui, achete habituellement ce produit : \"+algo1(int(id_cl),df,data)[0]+\" au prix de :\" +str(algo1(int(id_cl),df,data)[1])+\" €\")\n",
    "        else:\n",
    "            print(\"Algo 1 trop cher pour le client, utilisation de l'Algo 2, qui est propre aux habitudes budgetaires du client. Article proposé \"+algo2(int(id_cl),df,data)[0]+\" au prix : \"+str(algo2(int(id_cl),df,data)[0])+\" €\")\n",
    "\n",
    "\n",
    "\n",
    "user_recommendation()\n"
   ]
  }
 ],
 "metadata": {
  "kernelspec": {
   "display_name": "Python 3",
   "language": "python",
   "name": "python3"
  },
  "language_info": {
   "codemirror_mode": {
    "name": "ipython",
    "version": 3
   },
   "file_extension": ".py",
   "mimetype": "text/x-python",
   "name": "python",
   "nbconvert_exporter": "python",
   "pygments_lexer": "ipython3",
   "version": "3.10.8"
  },
  "orig_nbformat": 4,
  "vscode": {
   "interpreter": {
    "hash": "e7370f93d1d0cde622a1f8e1c04877d8463912d04d973331ad4851f04de6915a"
   }
  }
 },
 "nbformat": 4,
 "nbformat_minor": 2
}
