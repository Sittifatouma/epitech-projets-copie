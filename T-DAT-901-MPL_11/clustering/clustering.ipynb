{
 "cells": [
  {
   "cell_type": "code",
   "execution_count": 1,
   "metadata": {},
   "outputs": [],
   "source": [
    "# Import libraries we need\n",
    "\n",
    "import numpy as np\n",
    "import pandas as pd \n",
    "import matplotlib.pyplot as plt\n",
    "from yellowbrick.cluster import KElbowVisualizer\n",
    "from sklearn.preprocessing import LabelEncoder\n",
    "from sklearn.preprocessing import MinMaxScaler\n",
    "from sklearn.datasets import load_digits\n",
    "from sklearn.decomposition import PCA\n",
    "from sklearn.cluster import KMeans\n",
    "\n",
    "\n"
   ]
  },
  {
   "cell_type": "code",
   "execution_count": 2,
   "metadata": {},
   "outputs": [
    {
     "data": {
      "text/html": [
       "<div>\n",
       "<style scoped>\n",
       "    .dataframe tbody tr th:only-of-type {\n",
       "        vertical-align: middle;\n",
       "    }\n",
       "\n",
       "    .dataframe tbody tr th {\n",
       "        vertical-align: top;\n",
       "    }\n",
       "\n",
       "    .dataframe thead th {\n",
       "        text-align: right;\n",
       "    }\n",
       "</style>\n",
       "<table border=\"1\" class=\"dataframe\">\n",
       "  <thead>\n",
       "    <tr style=\"text-align: right;\">\n",
       "      <th></th>\n",
       "      <th>UNIVERS</th>\n",
       "      <th>MOIS_VENTE</th>\n",
       "      <th>FAMILLE</th>\n",
       "      <th>MAILLE</th>\n",
       "      <th>('PRIX_NET', 'min')</th>\n",
       "      <th>('PRIX_NET', 'max')</th>\n",
       "      <th>('PRIX_NET', 'mean')</th>\n",
       "    </tr>\n",
       "    <tr>\n",
       "      <th>CLI_ID</th>\n",
       "      <th></th>\n",
       "      <th></th>\n",
       "      <th></th>\n",
       "      <th></th>\n",
       "      <th></th>\n",
       "      <th></th>\n",
       "      <th></th>\n",
       "    </tr>\n",
       "  </thead>\n",
       "  <tbody>\n",
       "    <tr>\n",
       "      <th>1490281</th>\n",
       "      <td>VIS_DEMAQ AAAR</td>\n",
       "      <td>10</td>\n",
       "      <td>SOINS DU VISAGE</td>\n",
       "      <td>VIS_AAAR_DEMAQLOTION</td>\n",
       "      <td>1.66</td>\n",
       "      <td>7.45</td>\n",
       "      <td>3.680000</td>\n",
       "    </tr>\n",
       "    <tr>\n",
       "      <th>13290776</th>\n",
       "      <td>PARF_EAUX PARFUMS</td>\n",
       "      <td>12</td>\n",
       "      <td>PARFUMAGE</td>\n",
       "      <td>PARF_PARFUM</td>\n",
       "      <td>1.75</td>\n",
       "      <td>13.00</td>\n",
       "      <td>6.166667</td>\n",
       "    </tr>\n",
       "    <tr>\n",
       "      <th>20163348</th>\n",
       "      <td>MAQ_LEV RAL Brillance</td>\n",
       "      <td>1</td>\n",
       "      <td>MAQUILLAGE</td>\n",
       "      <td>MAQ_LEV_RAL_HMG</td>\n",
       "      <td>7.45</td>\n",
       "      <td>7.45</td>\n",
       "      <td>7.450000</td>\n",
       "    </tr>\n",
       "    <tr>\n",
       "      <th>20200041</th>\n",
       "      <td>VIS_CJOUR Jeunes Specifique</td>\n",
       "      <td>1</td>\n",
       "      <td>SOINS DU VISAGE</td>\n",
       "      <td>VIS_JEUNE_ET_LEVRE</td>\n",
       "      <td>1.25</td>\n",
       "      <td>5.45</td>\n",
       "      <td>3.350000</td>\n",
       "    </tr>\n",
       "    <tr>\n",
       "      <th>20561854</th>\n",
       "      <td>MAQ_ONG Vernis LUM</td>\n",
       "      <td>3</td>\n",
       "      <td>MAQUILLAGE</td>\n",
       "      <td>MAQ_ONGLES</td>\n",
       "      <td>1.65</td>\n",
       "      <td>2.95</td>\n",
       "      <td>2.350000</td>\n",
       "    </tr>\n",
       "  </tbody>\n",
       "</table>\n",
       "</div>"
      ],
      "text/plain": [
       "                              UNIVERS  MOIS_VENTE          FAMILLE  \\\n",
       "CLI_ID                                                               \n",
       "1490281                VIS_DEMAQ AAAR          10  SOINS DU VISAGE   \n",
       "13290776            PARF_EAUX PARFUMS          12        PARFUMAGE   \n",
       "20163348        MAQ_LEV RAL Brillance           1       MAQUILLAGE   \n",
       "20200041  VIS_CJOUR Jeunes Specifique           1  SOINS DU VISAGE   \n",
       "20561854           MAQ_ONG Vernis LUM           3       MAQUILLAGE   \n",
       "\n",
       "                        MAILLE  ('PRIX_NET', 'min')  ('PRIX_NET', 'max')  \\\n",
       "CLI_ID                                                                     \n",
       "1490281   VIS_AAAR_DEMAQLOTION                 1.66                 7.45   \n",
       "13290776           PARF_PARFUM                 1.75                13.00   \n",
       "20163348       MAQ_LEV_RAL_HMG                 7.45                 7.45   \n",
       "20200041    VIS_JEUNE_ET_LEVRE                 1.25                 5.45   \n",
       "20561854            MAQ_ONGLES                 1.65                 2.95   \n",
       "\n",
       "          ('PRIX_NET', 'mean')  \n",
       "CLI_ID                          \n",
       "1490281               3.680000  \n",
       "13290776              6.166667  \n",
       "20163348              7.450000  \n",
       "20200041              3.350000  \n",
       "20561854              2.350000  "
      ]
     },
     "execution_count": 2,
     "metadata": {},
     "output_type": "execute_result"
    }
   ],
   "source": [
    "# import dataset\n",
    "\n",
    "dataset = pd.read_csv('../data.csv')\n",
    "dataset = dataset.set_index(\"CLI_ID\")\n",
    "dataset.head()"
   ]
  },
  {
   "cell_type": "code",
   "execution_count": 3,
   "metadata": {},
   "outputs": [
    {
     "name": "stdout",
     "output_type": "stream",
     "text": [
      "<class 'pandas.core.frame.DataFrame'>\n",
      "Int64Index: 852554 entries, 1490281 to 997385337\n",
      "Data columns (total 7 columns):\n",
      " #   Column                Non-Null Count   Dtype  \n",
      "---  ------                --------------   -----  \n",
      " 0   UNIVERS               852554 non-null  object \n",
      " 1   MOIS_VENTE            852554 non-null  int64  \n",
      " 2   FAMILLE               852554 non-null  object \n",
      " 3   MAILLE                852554 non-null  object \n",
      " 4   ('PRIX_NET', 'min')   852554 non-null  float64\n",
      " 5   ('PRIX_NET', 'max')   852554 non-null  float64\n",
      " 6   ('PRIX_NET', 'mean')  852554 non-null  float64\n",
      "dtypes: float64(3), int64(1), object(3)\n",
      "memory usage: 52.0+ MB\n"
     ]
    }
   ],
   "source": [
    "# Dataset info\n",
    "dataset.info()"
   ]
  },
  {
   "cell_type": "markdown",
   "metadata": {},
   "source": []
  },
  {
   "cell_type": "code",
   "execution_count": 4,
   "metadata": {},
   "outputs": [
    {
     "data": {
      "text/plain": [
       "UNIVERS                 0\n",
       "MOIS_VENTE              0\n",
       "FAMILLE                 0\n",
       "MAILLE                  0\n",
       "('PRIX_NET', 'min')     0\n",
       "('PRIX_NET', 'max')     0\n",
       "('PRIX_NET', 'mean')    0\n",
       "dtype: int64"
      ]
     },
     "execution_count": 4,
     "metadata": {},
     "output_type": "execute_result"
    }
   ],
   "source": [
    "# Check if there is null value in the dataset\n",
    "dataset.isnull().sum()"
   ]
  },
  {
   "cell_type": "code",
   "execution_count": 5,
   "metadata": {},
   "outputs": [
    {
     "data": {
      "text/plain": [
       "1"
      ]
     },
     "execution_count": 5,
     "metadata": {},
     "output_type": "execute_result"
    }
   ],
   "source": [
    "1 # Drop useless data\n",
    "# dataset.drop(['CLI_ID'], axis=1, inplace=True)\n",
    "# dataset.head()"
   ]
  },
  {
   "cell_type": "code",
   "execution_count": 6,
   "metadata": {},
   "outputs": [],
   "source": [
    "# Convert categorical variable into integers \n",
    "X = dataset\n",
    "\n",
    "leUnivers = LabelEncoder()\n",
    "leFamille = LabelEncoder()\n",
    "leMaille = LabelEncoder()\n",
    "\n",
    "leUnivers.fit(X[\"UNIVERS\"])\n",
    "leFamille.fit(X[\"FAMILLE\"])\n",
    "leMaille.fit(X[\"MAILLE\"])\n",
    "\n",
    "X[\"UNIVERS\"] = leUnivers.transform(X[\"UNIVERS\"])\n",
    "X[\"FAMILLE\"] = leFamille.transform(X[\"FAMILLE\"])\n",
    "X[\"MAILLE\"] = leMaille.transform(X[\"MAILLE\"])"
   ]
  },
  {
   "cell_type": "code",
   "execution_count": 7,
   "metadata": {},
   "outputs": [
    {
     "name": "stdout",
     "output_type": "stream",
     "text": [
      "<class 'pandas.core.frame.DataFrame'>\n",
      "Int64Index: 852554 entries, 1490281 to 997385337\n",
      "Data columns (total 7 columns):\n",
      " #   Column                Non-Null Count   Dtype  \n",
      "---  ------                --------------   -----  \n",
      " 0   UNIVERS               852554 non-null  int64  \n",
      " 1   MOIS_VENTE            852554 non-null  int64  \n",
      " 2   FAMILLE               852554 non-null  int64  \n",
      " 3   MAILLE                852554 non-null  int64  \n",
      " 4   ('PRIX_NET', 'min')   852554 non-null  float64\n",
      " 5   ('PRIX_NET', 'max')   852554 non-null  float64\n",
      " 6   ('PRIX_NET', 'mean')  852554 non-null  float64\n",
      "dtypes: float64(3), int64(4)\n",
      "memory usage: 52.0 MB\n"
     ]
    }
   ],
   "source": [
    "X.info()"
   ]
  },
  {
   "cell_type": "code",
   "execution_count": 8,
   "metadata": {},
   "outputs": [
    {
     "data": {
      "text/html": [
       "<div>\n",
       "<style scoped>\n",
       "    .dataframe tbody tr th:only-of-type {\n",
       "        vertical-align: middle;\n",
       "    }\n",
       "\n",
       "    .dataframe tbody tr th {\n",
       "        vertical-align: top;\n",
       "    }\n",
       "\n",
       "    .dataframe thead th {\n",
       "        text-align: right;\n",
       "    }\n",
       "</style>\n",
       "<table border=\"1\" class=\"dataframe\">\n",
       "  <thead>\n",
       "    <tr style=\"text-align: right;\">\n",
       "      <th></th>\n",
       "      <th>UNIVERS</th>\n",
       "      <th>MOIS_VENTE</th>\n",
       "      <th>FAMILLE</th>\n",
       "      <th>MAILLE</th>\n",
       "      <th>('PRIX_NET', 'min')</th>\n",
       "      <th>('PRIX_NET', 'max')</th>\n",
       "      <th>('PRIX_NET', 'mean')</th>\n",
       "    </tr>\n",
       "    <tr>\n",
       "      <th>CLI_ID</th>\n",
       "      <th></th>\n",
       "      <th></th>\n",
       "      <th></th>\n",
       "      <th></th>\n",
       "      <th></th>\n",
       "      <th></th>\n",
       "      <th></th>\n",
       "    </tr>\n",
       "  </thead>\n",
       "  <tbody>\n",
       "    <tr>\n",
       "      <th>1490281</th>\n",
       "      <td>85</td>\n",
       "      <td>10</td>\n",
       "      <td>6</td>\n",
       "      <td>26</td>\n",
       "      <td>1.66</td>\n",
       "      <td>7.45</td>\n",
       "      <td>3.680000</td>\n",
       "    </tr>\n",
       "    <tr>\n",
       "      <th>13290776</th>\n",
       "      <td>69</td>\n",
       "      <td>12</td>\n",
       "      <td>4</td>\n",
       "      <td>24</td>\n",
       "      <td>1.75</td>\n",
       "      <td>13.00</td>\n",
       "      <td>6.166667</td>\n",
       "    </tr>\n",
       "    <tr>\n",
       "      <th>20163348</th>\n",
       "      <td>41</td>\n",
       "      <td>1</td>\n",
       "      <td>2</td>\n",
       "      <td>15</td>\n",
       "      <td>7.45</td>\n",
       "      <td>7.45</td>\n",
       "      <td>7.450000</td>\n",
       "    </tr>\n",
       "    <tr>\n",
       "      <th>20200041</th>\n",
       "      <td>79</td>\n",
       "      <td>1</td>\n",
       "      <td>6</td>\n",
       "      <td>31</td>\n",
       "      <td>1.25</td>\n",
       "      <td>5.45</td>\n",
       "      <td>3.350000</td>\n",
       "    </tr>\n",
       "    <tr>\n",
       "      <th>20561854</th>\n",
       "      <td>47</td>\n",
       "      <td>3</td>\n",
       "      <td>2</td>\n",
       "      <td>16</td>\n",
       "      <td>1.65</td>\n",
       "      <td>2.95</td>\n",
       "      <td>2.350000</td>\n",
       "    </tr>\n",
       "  </tbody>\n",
       "</table>\n",
       "</div>"
      ],
      "text/plain": [
       "          UNIVERS  MOIS_VENTE  FAMILLE  MAILLE  ('PRIX_NET', 'min')  \\\n",
       "CLI_ID                                                                \n",
       "1490281        85          10        6      26                 1.66   \n",
       "13290776       69          12        4      24                 1.75   \n",
       "20163348       41           1        2      15                 7.45   \n",
       "20200041       79           1        6      31                 1.25   \n",
       "20561854       47           3        2      16                 1.65   \n",
       "\n",
       "          ('PRIX_NET', 'max')  ('PRIX_NET', 'mean')  \n",
       "CLI_ID                                               \n",
       "1490281                  7.45              3.680000  \n",
       "13290776                13.00              6.166667  \n",
       "20163348                 7.45              7.450000  \n",
       "20200041                 5.45              3.350000  \n",
       "20561854                 2.95              2.350000  "
      ]
     },
     "execution_count": 8,
     "metadata": {},
     "output_type": "execute_result"
    }
   ],
   "source": [
    "X.head()"
   ]
  },
  {
   "cell_type": "code",
   "execution_count": 9,
   "metadata": {},
   "outputs": [
    {
     "data": {
      "text/html": [
       "<div>\n",
       "<style scoped>\n",
       "    .dataframe tbody tr th:only-of-type {\n",
       "        vertical-align: middle;\n",
       "    }\n",
       "\n",
       "    .dataframe tbody tr th {\n",
       "        vertical-align: top;\n",
       "    }\n",
       "\n",
       "    .dataframe thead tr th {\n",
       "        text-align: left;\n",
       "    }\n",
       "</style>\n",
       "<table border=\"1\" class=\"dataframe\">\n",
       "  <thead>\n",
       "    <tr>\n",
       "      <th></th>\n",
       "      <th>UNIVERS</th>\n",
       "      <th>MOIS_VENTE</th>\n",
       "      <th>FAMILLE</th>\n",
       "      <th>MAILLE</th>\n",
       "      <th>('PRIX_NET', 'min')</th>\n",
       "      <th>('PRIX_NET', 'max')</th>\n",
       "      <th>('PRIX_NET', 'mean')</th>\n",
       "    </tr>\n",
       "  </thead>\n",
       "  <tbody>\n",
       "    <tr>\n",
       "      <th>0</th>\n",
       "      <td>0.85</td>\n",
       "      <td>0.818182</td>\n",
       "      <td>0.857143</td>\n",
       "      <td>0.81250</td>\n",
       "      <td>0.003667</td>\n",
       "      <td>0.004414</td>\n",
       "      <td>0.003880</td>\n",
       "    </tr>\n",
       "    <tr>\n",
       "      <th>1</th>\n",
       "      <td>0.69</td>\n",
       "      <td>1.000000</td>\n",
       "      <td>0.571429</td>\n",
       "      <td>0.75000</td>\n",
       "      <td>0.003867</td>\n",
       "      <td>0.007939</td>\n",
       "      <td>0.006734</td>\n",
       "    </tr>\n",
       "    <tr>\n",
       "      <th>2</th>\n",
       "      <td>0.41</td>\n",
       "      <td>0.000000</td>\n",
       "      <td>0.285714</td>\n",
       "      <td>0.46875</td>\n",
       "      <td>0.016534</td>\n",
       "      <td>0.004414</td>\n",
       "      <td>0.008207</td>\n",
       "    </tr>\n",
       "    <tr>\n",
       "      <th>3</th>\n",
       "      <td>0.79</td>\n",
       "      <td>0.000000</td>\n",
       "      <td>0.857143</td>\n",
       "      <td>0.96875</td>\n",
       "      <td>0.002756</td>\n",
       "      <td>0.003144</td>\n",
       "      <td>0.003501</td>\n",
       "    </tr>\n",
       "    <tr>\n",
       "      <th>4</th>\n",
       "      <td>0.47</td>\n",
       "      <td>0.181818</td>\n",
       "      <td>0.285714</td>\n",
       "      <td>0.50000</td>\n",
       "      <td>0.003645</td>\n",
       "      <td>0.001556</td>\n",
       "      <td>0.002353</td>\n",
       "    </tr>\n",
       "  </tbody>\n",
       "</table>\n",
       "</div>"
      ],
      "text/plain": [
       "  UNIVERS MOIS_VENTE   FAMILLE   MAILLE ('PRIX_NET', 'min')  \\\n",
       "0    0.85   0.818182  0.857143  0.81250            0.003667   \n",
       "1    0.69   1.000000  0.571429  0.75000            0.003867   \n",
       "2    0.41   0.000000  0.285714  0.46875            0.016534   \n",
       "3    0.79   0.000000  0.857143  0.96875            0.002756   \n",
       "4    0.47   0.181818  0.285714  0.50000            0.003645   \n",
       "\n",
       "  ('PRIX_NET', 'max') ('PRIX_NET', 'mean')  \n",
       "0            0.004414             0.003880  \n",
       "1            0.007939             0.006734  \n",
       "2            0.004414             0.008207  \n",
       "3            0.003144             0.003501  \n",
       "4            0.001556             0.002353  "
      ]
     },
     "execution_count": 9,
     "metadata": {},
     "output_type": "execute_result"
    }
   ],
   "source": [
    "# Feature scalling\n",
    "cols = X.columns\n",
    "\n",
    "ms = MinMaxScaler()\n",
    "ms.fit(X)\n",
    "\n",
    "X = ms.transform(X)\n",
    "X = pd.DataFrame(X, columns=[cols])\n",
    "X.head()\n"
   ]
  },
  {
   "cell_type": "code",
   "execution_count": 10,
   "metadata": {},
   "outputs": [
    {
     "name": "stderr",
     "output_type": "stream",
     "text": [
      "/usr/local/lib/python3.10/site-packages/sklearn/cluster/_kmeans.py:870: FutureWarning: The default value of `n_init` will change from 10 to 'auto' in 1.4. Set the value of `n_init` explicitly to suppress the warning\n",
      "  warnings.warn(\n",
      "/usr/local/lib/python3.10/site-packages/sklearn/cluster/_kmeans.py:870: FutureWarning: The default value of `n_init` will change from 10 to 'auto' in 1.4. Set the value of `n_init` explicitly to suppress the warning\n",
      "  warnings.warn(\n",
      "/usr/local/lib/python3.10/site-packages/sklearn/cluster/_kmeans.py:870: FutureWarning: The default value of `n_init` will change from 10 to 'auto' in 1.4. Set the value of `n_init` explicitly to suppress the warning\n",
      "  warnings.warn(\n",
      "/usr/local/lib/python3.10/site-packages/sklearn/cluster/_kmeans.py:870: FutureWarning: The default value of `n_init` will change from 10 to 'auto' in 1.4. Set the value of `n_init` explicitly to suppress the warning\n",
      "  warnings.warn(\n",
      "/usr/local/lib/python3.10/site-packages/sklearn/cluster/_kmeans.py:870: FutureWarning: The default value of `n_init` will change from 10 to 'auto' in 1.4. Set the value of `n_init` explicitly to suppress the warning\n",
      "  warnings.warn(\n",
      "/usr/local/lib/python3.10/site-packages/sklearn/cluster/_kmeans.py:870: FutureWarning: The default value of `n_init` will change from 10 to 'auto' in 1.4. Set the value of `n_init` explicitly to suppress the warning\n",
      "  warnings.warn(\n",
      "/usr/local/lib/python3.10/site-packages/sklearn/cluster/_kmeans.py:870: FutureWarning: The default value of `n_init` will change from 10 to 'auto' in 1.4. Set the value of `n_init` explicitly to suppress the warning\n",
      "  warnings.warn(\n",
      "/usr/local/lib/python3.10/site-packages/sklearn/cluster/_kmeans.py:870: FutureWarning: The default value of `n_init` will change from 10 to 'auto' in 1.4. Set the value of `n_init` explicitly to suppress the warning\n",
      "  warnings.warn(\n",
      "/usr/local/lib/python3.10/site-packages/sklearn/cluster/_kmeans.py:870: FutureWarning: The default value of `n_init` will change from 10 to 'auto' in 1.4. Set the value of `n_init` explicitly to suppress the warning\n",
      "  warnings.warn(\n",
      "/usr/local/lib/python3.10/site-packages/sklearn/cluster/_kmeans.py:870: FutureWarning: The default value of `n_init` will change from 10 to 'auto' in 1.4. Set the value of `n_init` explicitly to suppress the warning\n",
      "  warnings.warn(\n",
      "/usr/local/lib/python3.10/site-packages/sklearn/cluster/_kmeans.py:870: FutureWarning: The default value of `n_init` will change from 10 to 'auto' in 1.4. Set the value of `n_init` explicitly to suppress the warning\n",
      "  warnings.warn(\n",
      "/usr/local/lib/python3.10/site-packages/sklearn/cluster/_kmeans.py:870: FutureWarning: The default value of `n_init` will change from 10 to 'auto' in 1.4. Set the value of `n_init` explicitly to suppress the warning\n",
      "  warnings.warn(\n",
      "/usr/local/lib/python3.10/site-packages/sklearn/cluster/_kmeans.py:870: FutureWarning: The default value of `n_init` will change from 10 to 'auto' in 1.4. Set the value of `n_init` explicitly to suppress the warning\n",
      "  warnings.warn(\n",
      "/usr/local/lib/python3.10/site-packages/sklearn/cluster/_kmeans.py:870: FutureWarning: The default value of `n_init` will change from 10 to 'auto' in 1.4. Set the value of `n_init` explicitly to suppress the warning\n",
      "  warnings.warn(\n",
      "/usr/local/lib/python3.10/site-packages/sklearn/cluster/_kmeans.py:870: FutureWarning: The default value of `n_init` will change from 10 to 'auto' in 1.4. Set the value of `n_init` explicitly to suppress the warning\n",
      "  warnings.warn(\n",
      "/usr/local/lib/python3.10/site-packages/sklearn/cluster/_kmeans.py:870: FutureWarning: The default value of `n_init` will change from 10 to 'auto' in 1.4. Set the value of `n_init` explicitly to suppress the warning\n",
      "  warnings.warn(\n",
      "/usr/local/lib/python3.10/site-packages/sklearn/cluster/_kmeans.py:870: FutureWarning: The default value of `n_init` will change from 10 to 'auto' in 1.4. Set the value of `n_init` explicitly to suppress the warning\n",
      "  warnings.warn(\n",
      "/usr/local/lib/python3.10/site-packages/sklearn/cluster/_kmeans.py:870: FutureWarning: The default value of `n_init` will change from 10 to 'auto' in 1.4. Set the value of `n_init` explicitly to suppress the warning\n",
      "  warnings.warn(\n"
     ]
    },
    {
     "data": {
      "image/png": "[encoded data removed]",
      "text/plain": [
       "<Figure size 800x550 with 2 Axes>"
      ]
     },
     "metadata": {},
     "output_type": "display_data"
    },
    {
     "data": {
      "text/plain": [
       "<AxesSubplot: title={'center': 'Distortion Score Elbow for KMeans Clustering'}, xlabel='k', ylabel='distortion score'>"
      ]
     },
     "execution_count": 10,
     "metadata": {},
     "output_type": "execute_result"
    }
   ],
   "source": [
    "# réduction de dimension\n",
    "pca = PCA(2)\n",
    " \n",
    "#Transform the data\n",
    "pca.fit(X)\n",
    "df = pca.transform(X)\n",
    "\n",
    "#Elbow Method for K means\n",
    "model = KMeans()\n",
    "\n",
    "visualizer = KElbowVisualizer(model, k=(2,20), timings= True)\n",
    "visualizer.fit(df)\n",
    "visualizer.show()"
   ]
  },
  {
   "cell_type": "code",
   "execution_count": 11,
   "metadata": {},
   "outputs": [
    {
     "name": "stderr",
     "output_type": "stream",
     "text": [
      "/usr/local/lib/python3.10/site-packages/sklearn/cluster/_kmeans.py:870: FutureWarning: The default value of `n_init` will change from 10 to 'auto' in 1.4. Set the value of `n_init` explicitly to suppress the warning\n",
      "  warnings.warn(\n"
     ]
    },
    {
     "name": "stdout",
     "output_type": "stream",
     "text": [
      "[4 1 0 ... 4 4 4]\n"
     ]
    }
   ],
   "source": [
    "# Clustering\n",
    "kmeans = KMeans(n_clusters=6) \n",
    "\n",
    "# result = kmeans.fit(X)\n",
    "kmeansFit = kmeans.fit(df)\n",
    "label = kmeansFit.predict(df)\n",
    "print(label)\n"
   ]
  },
  {
   "cell_type": "code",
   "execution_count": 12,
   "metadata": {},
   "outputs": [
    {
     "data": {
      "image/png": "[encoded data removed]",
      "text/plain": [
       "<Figure size 800x550 with 1 Axes>"
      ]
     },
     "metadata": {},
     "output_type": "display_data"
    }
   ],
   "source": [
    "# display clusters center\n",
    "cluster_center = kmeans.cluster_centers_\n",
    "\n",
    "plt.scatter(cluster_center[0, 0] , cluster_center[0, 1], color=\"red\")\n",
    "plt.scatter(cluster_center[1, 0], cluster_center[1, 1], color=\"green\")\n",
    "plt.scatter(cluster_center[2, 0] , cluster_center[2, 1], color=\"blue\")\n",
    "plt.scatter(cluster_center[3, 0] , cluster_center[3, 1], color=\"purple\")\n",
    "plt.scatter(cluster_center[4, 0] , cluster_center[4, 1], color=\"pink\")\n",
    "plt.scatter(cluster_center[5, 0] , cluster_center[5, 1], color=\"black\")\n",
    "plt.show()\n"
   ]
  },
  {
   "cell_type": "code",
   "execution_count": 13,
   "metadata": {},
   "outputs": [
    {
     "data": {
      "image/png": "[encoded data removed]",
      "text/plain": [
       "<Figure size 800x550 with 1 Axes>"
      ]
     },
     "metadata": {},
     "output_type": "display_data"
    }
   ],
   "source": [
    "#filter rows of original data\n",
    "filtered_label0 = df[label == 0]\n",
    "filtered_label1 = df[label == 1]\n",
    "filtered_label2 = df[label == 2]\n",
    "filtered_label3 = df[label == 3]\n",
    "filtered_label4 = df[label == 4]\n",
    "filtered_label5 = df[label == 5]\n",
    " \n",
    "#plotting the results\n",
    "plt.scatter(filtered_label0[:, 0] , filtered_label0[:, 1], color=\"red\")\n",
    "plt.scatter(filtered_label1[:, 0], filtered_label1[:, 1], color=\"green\")\n",
    "plt.scatter(filtered_label2[:, 0] , filtered_label2[:, 1], color=\"blue\")\n",
    "plt.scatter(filtered_label3[:, 0] , filtered_label3[:, 1], color=\"purple\")\n",
    "plt.scatter(filtered_label4[:, 0] , filtered_label4[:, 1], color=\"pink\")\n",
    "plt.scatter(filtered_label5[:, 0] , filtered_label5[:, 1], color=\"black\")\n",
    "plt.show()"
   ]
  },
  {
   "cell_type": "code",
   "execution_count": 14,
   "metadata": {},
   "outputs": [],
   "source": [
    "#Import kado dataset\n",
    "randomClientDF = pd.read_csv('./randomClient.csv')"
   ]
  },
  {
   "cell_type": "code",
   "execution_count": 15,
   "metadata": {},
   "outputs": [
    {
     "name": "stdout",
     "output_type": "stream",
     "text": [
      "randomClient cluster :  1\n"
     ]
    }
   ],
   "source": [
    "#Retrieve a random Client\n",
    "randomClient = randomClientDF.sample()\n",
    "\n",
    "# drop the CLI_ID to predict the client cluster\n",
    "randomClient_ID = randomClient[\"CLI_ID\"]\n",
    "randomClient.drop(['CLI_ID'], axis=1, inplace=True)\n",
    "\n",
    "#Encode string data\n",
    "randomClient['UNIVERS'] = leUnivers.transform(randomClient[\"UNIVERS\"])\n",
    "randomClient[\"FAMILLE\"] = leFamille.transform(randomClient[\"FAMILLE\"])\n",
    "randomClient[\"MAILLE\"] = leMaille.transform(randomClient[\"MAILLE\"])\n",
    "\n",
    "#Scale data\n",
    "randomClient = ms.transform(randomClient)\n",
    "randomClient_2Dimensions = pca.transform(randomClient)\n",
    "\n",
    "#predict cluster\n",
    "randomClientCluster = kmeansFit.predict(randomClient_2Dimensions)[0]\n",
    "print('randomClient cluster : ', randomClientCluster)"
   ]
  },
  {
   "cell_type": "code",
   "execution_count": 16,
   "metadata": {},
   "outputs": [
    {
     "name": "stderr",
     "output_type": "stream",
     "text": [
      "/var/folders/ky/584rlmcs2dndhktllgbrvq300000gn/T/ipykernel_863/403185248.py:4: SettingWithCopyWarning: \n",
      "A value is trying to be set on a copy of a slice from a DataFrame.\n",
      "Try using .loc[row_indexer,col_indexer] = value instead\n",
      "\n",
      "See the caveats in the documentation: https://pandas.pydata.org/pandas-docs/stable/user_guide/indexing.html#returning-a-view-versus-a-copy\n",
      "  clusterClient[\"UNIVERS\"] = leUnivers.inverse_transform(clusterClient[\"UNIVERS\"])\n",
      "/var/folders/ky/584rlmcs2dndhktllgbrvq300000gn/T/ipykernel_863/403185248.py:5: SettingWithCopyWarning: \n",
      "A value is trying to be set on a copy of a slice from a DataFrame.\n",
      "Try using .loc[row_indexer,col_indexer] = value instead\n",
      "\n",
      "See the caveats in the documentation: https://pandas.pydata.org/pandas-docs/stable/user_guide/indexing.html#returning-a-view-versus-a-copy\n",
      "  clusterClient[\"FAMILLE\"] = leUnivers.inverse_transform(clusterClient[\"FAMILLE\"])\n",
      "/var/folders/ky/584rlmcs2dndhktllgbrvq300000gn/T/ipykernel_863/403185248.py:6: SettingWithCopyWarning: \n",
      "A value is trying to be set on a copy of a slice from a DataFrame.\n",
      "Try using .loc[row_indexer,col_indexer] = value instead\n",
      "\n",
      "See the caveats in the documentation: https://pandas.pydata.org/pandas-docs/stable/user_guide/indexing.html#returning-a-view-versus-a-copy\n",
      "  clusterClient[\"MAILLE\"] = leUnivers.inverse_transform(clusterClient[\"MAILLE\"])\n"
     ]
    },
    {
     "data": {
      "text/html": [
       "<div>\n",
       "<style scoped>\n",
       "    .dataframe tbody tr th:only-of-type {\n",
       "        vertical-align: middle;\n",
       "    }\n",
       "\n",
       "    .dataframe tbody tr th {\n",
       "        vertical-align: top;\n",
       "    }\n",
       "\n",
       "    .dataframe thead th {\n",
       "        text-align: right;\n",
       "    }\n",
       "</style>\n",
       "<table border=\"1\" class=\"dataframe\">\n",
       "  <thead>\n",
       "    <tr style=\"text-align: right;\">\n",
       "      <th></th>\n",
       "      <th>UNIVERS</th>\n",
       "      <th>MOIS_VENTE</th>\n",
       "      <th>FAMILLE</th>\n",
       "      <th>MAILLE</th>\n",
       "      <th>('PRIX_NET', 'min')</th>\n",
       "      <th>('PRIX_NET', 'max')</th>\n",
       "      <th>('PRIX_NET', 'mean')</th>\n",
       "    </tr>\n",
       "    <tr>\n",
       "      <th>CLI_ID</th>\n",
       "      <th></th>\n",
       "      <th></th>\n",
       "      <th></th>\n",
       "      <th></th>\n",
       "      <th></th>\n",
       "      <th></th>\n",
       "      <th></th>\n",
       "    </tr>\n",
       "  </thead>\n",
       "  <tbody>\n",
       "    <tr>\n",
       "      <th>13290776</th>\n",
       "      <td>PARF_EAUX PARFUMS</td>\n",
       "      <td>12</td>\n",
       "      <td>CAP_TENUE DE LA COIFFURE</td>\n",
       "      <td>HYG_DOUCHE AUTRES</td>\n",
       "      <td>1.75</td>\n",
       "      <td>13.00</td>\n",
       "      <td>6.166667</td>\n",
       "    </tr>\n",
       "    <tr>\n",
       "      <th>126716008</th>\n",
       "      <td>PARF_PARF ET EAU DE PARF</td>\n",
       "      <td>10</td>\n",
       "      <td>CAP_TENUE DE LA COIFFURE</td>\n",
       "      <td>HYG_DOUCHE AUTRES</td>\n",
       "      <td>26.50</td>\n",
       "      <td>26.50</td>\n",
       "      <td>26.500000</td>\n",
       "    </tr>\n",
       "    <tr>\n",
       "      <th>321933797</th>\n",
       "      <td>MAQ_TEINT Poudres</td>\n",
       "      <td>6</td>\n",
       "      <td>CAP_SHAMP TRAITANT</td>\n",
       "      <td>CORPS_SOINS HAMMAM</td>\n",
       "      <td>1.50</td>\n",
       "      <td>13.00</td>\n",
       "      <td>6.125000</td>\n",
       "    </tr>\n",
       "    <tr>\n",
       "      <th>356832238</th>\n",
       "      <td>PARF_EAUX DE COLOGNE</td>\n",
       "      <td>11</td>\n",
       "      <td>CAP_TENUE DE LA COIFFURE</td>\n",
       "      <td>HYG_DOUCHE AUTRES</td>\n",
       "      <td>1.95</td>\n",
       "      <td>7.95</td>\n",
       "      <td>5.350000</td>\n",
       "    </tr>\n",
       "    <tr>\n",
       "      <th>356998310</th>\n",
       "      <td>MAQ_TEINT Font teint</td>\n",
       "      <td>11</td>\n",
       "      <td>CAP_SHAMP TRAITANT</td>\n",
       "      <td>CORPS_SOINS HAMMAM</td>\n",
       "      <td>2.25</td>\n",
       "      <td>19.25</td>\n",
       "      <td>6.750000</td>\n",
       "    </tr>\n",
       "    <tr>\n",
       "      <th>...</th>\n",
       "      <td>...</td>\n",
       "      <td>...</td>\n",
       "      <td>...</td>\n",
       "      <td>...</td>\n",
       "      <td>...</td>\n",
       "      <td>...</td>\n",
       "      <td>...</td>\n",
       "    </tr>\n",
       "    <tr>\n",
       "      <th>997048646</th>\n",
       "      <td>MAQ_YEUX Mascara Specifique</td>\n",
       "      <td>8</td>\n",
       "      <td>CAP_SHAMP TRAITANT</td>\n",
       "      <td>HYG_DEO AUTRES</td>\n",
       "      <td>10.95</td>\n",
       "      <td>10.95</td>\n",
       "      <td>10.950000</td>\n",
       "    </tr>\n",
       "    <tr>\n",
       "      <th>997048654</th>\n",
       "      <td>PARF_EAUX PLAISIR NATURE</td>\n",
       "      <td>8</td>\n",
       "      <td>CAP_TENUE DE LA COIFFURE</td>\n",
       "      <td>HYG_DEO JARDINMONDE</td>\n",
       "      <td>7.90</td>\n",
       "      <td>7.90</td>\n",
       "      <td>7.900000</td>\n",
       "    </tr>\n",
       "    <tr>\n",
       "      <th>997048662</th>\n",
       "      <td>MAQ_ONG Vernis LUM</td>\n",
       "      <td>8</td>\n",
       "      <td>CAP_SHAMP TRAITANT</td>\n",
       "      <td>CORPS_SOIN PIEDS ET JAMBES</td>\n",
       "      <td>1.95</td>\n",
       "      <td>6.95</td>\n",
       "      <td>4.450000</td>\n",
       "    </tr>\n",
       "    <tr>\n",
       "      <th>997048711</th>\n",
       "      <td>MAQ_ONG AUTRES</td>\n",
       "      <td>8</td>\n",
       "      <td>CAP_SHAMP TRAITANT</td>\n",
       "      <td>CORPS_SOIN PIEDS ET JAMBES</td>\n",
       "      <td>5.00</td>\n",
       "      <td>19.90</td>\n",
       "      <td>10.120000</td>\n",
       "    </tr>\n",
       "    <tr>\n",
       "      <th>997048745</th>\n",
       "      <td>MAQ_ONG AUTRES</td>\n",
       "      <td>8</td>\n",
       "      <td>CAP_SHAMP TRAITANT</td>\n",
       "      <td>CORPS_SOIN PIEDS ET JAMBES</td>\n",
       "      <td>4.95</td>\n",
       "      <td>4.95</td>\n",
       "      <td>4.950000</td>\n",
       "    </tr>\n",
       "  </tbody>\n",
       "</table>\n",
       "<p>173753 rows × 7 columns</p>\n",
       "</div>"
      ],
      "text/plain": [
       "                               UNIVERS  MOIS_VENTE                   FAMILLE  \\\n",
       "CLI_ID                                                                         \n",
       "13290776             PARF_EAUX PARFUMS          12  CAP_TENUE DE LA COIFFURE   \n",
       "126716008     PARF_PARF ET EAU DE PARF          10  CAP_TENUE DE LA COIFFURE   \n",
       "321933797            MAQ_TEINT Poudres           6        CAP_SHAMP TRAITANT   \n",
       "356832238         PARF_EAUX DE COLOGNE          11  CAP_TENUE DE LA COIFFURE   \n",
       "356998310         MAQ_TEINT Font teint          11        CAP_SHAMP TRAITANT   \n",
       "...                                ...         ...                       ...   \n",
       "997048646  MAQ_YEUX Mascara Specifique           8        CAP_SHAMP TRAITANT   \n",
       "997048654     PARF_EAUX PLAISIR NATURE           8  CAP_TENUE DE LA COIFFURE   \n",
       "997048662           MAQ_ONG Vernis LUM           8        CAP_SHAMP TRAITANT   \n",
       "997048711               MAQ_ONG AUTRES           8        CAP_SHAMP TRAITANT   \n",
       "997048745               MAQ_ONG AUTRES           8        CAP_SHAMP TRAITANT   \n",
       "\n",
       "                               MAILLE  ('PRIX_NET', 'min')  \\\n",
       "CLI_ID                                                       \n",
       "13290776            HYG_DOUCHE AUTRES                 1.75   \n",
       "126716008           HYG_DOUCHE AUTRES                26.50   \n",
       "321933797          CORPS_SOINS HAMMAM                 1.50   \n",
       "356832238           HYG_DOUCHE AUTRES                 1.95   \n",
       "356998310          CORPS_SOINS HAMMAM                 2.25   \n",
       "...                               ...                  ...   \n",
       "997048646              HYG_DEO AUTRES                10.95   \n",
       "997048654         HYG_DEO JARDINMONDE                 7.90   \n",
       "997048662  CORPS_SOIN PIEDS ET JAMBES                 1.95   \n",
       "997048711  CORPS_SOIN PIEDS ET JAMBES                 5.00   \n",
       "997048745  CORPS_SOIN PIEDS ET JAMBES                 4.95   \n",
       "\n",
       "           ('PRIX_NET', 'max')  ('PRIX_NET', 'mean')  \n",
       "CLI_ID                                                \n",
       "13290776                 13.00              6.166667  \n",
       "126716008                26.50             26.500000  \n",
       "321933797                13.00              6.125000  \n",
       "356832238                 7.95              5.350000  \n",
       "356998310                19.25              6.750000  \n",
       "...                        ...                   ...  \n",
       "997048646                10.95             10.950000  \n",
       "997048654                 7.90              7.900000  \n",
       "997048662                 6.95              4.450000  \n",
       "997048711                19.90             10.120000  \n",
       "997048745                 4.95              4.950000  \n",
       "\n",
       "[173753 rows x 7 columns]"
      ]
     },
     "execution_count": 16,
     "metadata": {},
     "output_type": "execute_result"
    }
   ],
   "source": [
    "#We retrieve all the client in the dataset\n",
    "clusterClient = dataset[label == randomClientCluster]\n",
    "\n",
    "clusterClient[\"UNIVERS\"] = leUnivers.inverse_transform(clusterClient[\"UNIVERS\"])\n",
    "clusterClient[\"FAMILLE\"] = leUnivers.inverse_transform(clusterClient[\"FAMILLE\"])\n",
    "clusterClient[\"MAILLE\"] = leUnivers.inverse_transform(clusterClient[\"MAILLE\"])\n",
    "\n",
    "clusterClient"
   ]
  },
  {
   "cell_type": "code",
   "execution_count": 17,
   "metadata": {},
   "outputs": [
    {
     "name": "stdout",
     "output_type": "stream",
     "text": [
      "valeur unique UNIVERS :  32 \n",
      " ['PARF_EAUX PARFUMS' 'PARF_PARF ET EAU DE PARF' 'MAQ_TEINT Poudres'\n",
      " 'PARF_EAUX DE COLOGNE' 'MAQ_TEINT Font teint' 'PARF_EAUX PLAISIR NATURE'\n",
      " 'MAQ_YEUX Stylos' 'MAQ_ONG AUTRES' 'MAQ_ONG Vernis LUM' 'MAQ_LEV AUTRES'\n",
      " 'PARF_EAUX MONOI' 'MAQ_YEUX Sourcils' 'MAQ_YEUX Eyeliner'\n",
      " 'PARF_EAUX HOMMES' 'MAQ_TEINT Perfect Correcteur' 'MAQ_YEUX Crayons'\n",
      " 'MAQ_ONG Vernis CN' 'MAQ_YEUX Mascara Specifique'\n",
      " 'MAQ_TEINT Fard a joues' 'MAQ_YEUX Mascara SexyPulp' 'MAQ_YEUX Fard'\n",
      " 'MAQ_LEV RAL Brillance' 'PARF_APRES RASAGE' 'MAQ_LEV RAL GrdRouge'\n",
      " 'MAQ_LEV RAL Lum4' 'MAQ_YEUX Mascara Vertige' 'MAQ_YEUX Mascara Elixir'\n",
      " 'MAQ_YEUX Mascara Basic' 'PARF_EAUX EDIT NOEL ETE' 'SOINS CORPS ANTI-AGE'\n",
      " 'MAQ_LEV RAL Hydr' 'MULTI FAMILLES'] \n",
      "\n",
      "valeur unique FAMILLE :  4 \n",
      " ['CAP_TENUE DE LA COIFFURE' 'CAP_SHAMP TRAITANT' 'CAP_TRAITEMENT'\n",
      " 'CAP_SHAMP TSCHEVEUX'] \n",
      "\n",
      "valeur unique MAILLE :  12 \n",
      " ['HYG_DOUCHE AUTRES' 'CORPS_SOINS HAMMAM' 'HYG_DEO JARDINMONDE'\n",
      " 'HYG_BAIN SEL HUILE PERLE' 'CORPS_SOIN PIEDS ET JAMBES'\n",
      " 'CORPS_SOIN DES MAINS' 'HYG_DEO AUTRES' 'HYG_DEO PARFUMS'\n",
      " 'CORPS_PRODUITS MINCEUR' 'HYG_DEO CULTURE BIO' 'CAP_SHAMP TRAITANT'\n",
      " 'HYG_DEO HOMMES'] \n",
      "\n"
     ]
    }
   ],
   "source": [
    "# Analyse de ce qui compose le cluster\n",
    "print(\"valeur unique UNIVERS : \", len(clusterClient[\"UNIVERS\"].unique()) ,\"\\n\",clusterClient[\"UNIVERS\"].unique(), \"\\n\")\n",
    "print(\"valeur unique FAMILLE : \",len(clusterClient[\"FAMILLE\"].unique()) ,\"\\n\", clusterClient[\"FAMILLE\"].unique(), \"\\n\")\n",
    "print(\"valeur unique MAILLE : \",len(clusterClient[\"MAILLE\"].unique()) ,\"\\n\" ,clusterClient[\"MAILLE\"].unique(), \"\\n\")"
   ]
  },
  {
   "cell_type": "code",
   "execution_count": 18,
   "metadata": {},
   "outputs": [
    {
     "ename": "FileNotFoundError",
     "evalue": "[Errno 2] No such file or directory: 'KaDo.csv'",
     "output_type": "error",
     "traceback": [
      "\u001b[0;31m---------------------------------------------------------------------------\u001b[0m",
      "\u001b[0;31mFileNotFoundError\u001b[0m                         Traceback (most recent call last)",
      "Cell \u001b[0;32mIn [18], line 2\u001b[0m\n\u001b[1;32m      1\u001b[0m \u001b[38;5;66;03m# import données client\u001b[39;00m\n\u001b[0;32m----> 2\u001b[0m kaDo \u001b[38;5;241m=\u001b[39m \u001b[43mpd\u001b[49m\u001b[38;5;241;43m.\u001b[39;49m\u001b[43mread_csv\u001b[49m\u001b[43m(\u001b[49m\u001b[38;5;124;43m\"\u001b[39;49m\u001b[38;5;124;43mKaDo.csv\u001b[39;49m\u001b[38;5;124;43m\"\u001b[39;49m\u001b[43m)\u001b[49m\n\u001b[1;32m      3\u001b[0m kaDo \u001b[38;5;241m=\u001b[39m kaDo\u001b[38;5;241m.\u001b[39mset_index(\u001b[38;5;124m\"\u001b[39m\u001b[38;5;124mCLI_ID\u001b[39m\u001b[38;5;124m\"\u001b[39m)\n",
      "File \u001b[0;32m/usr/local/lib/python3.10/site-packages/pandas/util/_decorators.py:211\u001b[0m, in \u001b[0;36mdeprecate_kwarg.<locals>._deprecate_kwarg.<locals>.wrapper\u001b[0;34m(*args, **kwargs)\u001b[0m\n\u001b[1;32m    209\u001b[0m     \u001b[38;5;28;01melse\u001b[39;00m:\n\u001b[1;32m    210\u001b[0m         kwargs[new_arg_name] \u001b[38;5;241m=\u001b[39m new_arg_value\n\u001b[0;32m--> 211\u001b[0m \u001b[38;5;28;01mreturn\u001b[39;00m \u001b[43mfunc\u001b[49m\u001b[43m(\u001b[49m\u001b[38;5;241;43m*\u001b[39;49m\u001b[43margs\u001b[49m\u001b[43m,\u001b[49m\u001b[43m \u001b[49m\u001b[38;5;241;43m*\u001b[39;49m\u001b[38;5;241;43m*\u001b[39;49m\u001b[43mkwargs\u001b[49m\u001b[43m)\u001b[49m\n",
      "File \u001b[0;32m/usr/local/lib/python3.10/site-packages/pandas/util/_decorators.py:317\u001b[0m, in \u001b[0;36mdeprecate_nonkeyword_arguments.<locals>.decorate.<locals>.wrapper\u001b[0;34m(*args, **kwargs)\u001b[0m\n\u001b[1;32m    311\u001b[0m \u001b[38;5;28;01mif\u001b[39;00m \u001b[38;5;28mlen\u001b[39m(args) \u001b[38;5;241m>\u001b[39m num_allow_args:\n\u001b[1;32m    312\u001b[0m     warnings\u001b[38;5;241m.\u001b[39mwarn(\n\u001b[1;32m    313\u001b[0m         msg\u001b[38;5;241m.\u001b[39mformat(arguments\u001b[38;5;241m=\u001b[39marguments),\n\u001b[1;32m    314\u001b[0m         \u001b[38;5;167;01mFutureWarning\u001b[39;00m,\n\u001b[1;32m    315\u001b[0m         stacklevel\u001b[38;5;241m=\u001b[39mfind_stack_level(inspect\u001b[38;5;241m.\u001b[39mcurrentframe()),\n\u001b[1;32m    316\u001b[0m     )\n\u001b[0;32m--> 317\u001b[0m \u001b[38;5;28;01mreturn\u001b[39;00m \u001b[43mfunc\u001b[49m\u001b[43m(\u001b[49m\u001b[38;5;241;43m*\u001b[39;49m\u001b[43margs\u001b[49m\u001b[43m,\u001b[49m\u001b[43m \u001b[49m\u001b[38;5;241;43m*\u001b[39;49m\u001b[38;5;241;43m*\u001b[39;49m\u001b[43mkwargs\u001b[49m\u001b[43m)\u001b[49m\n",
      "File \u001b[0;32m/usr/local/lib/python3.10/site-packages/pandas/io/parsers/readers.py:950\u001b[0m, in \u001b[0;36mread_csv\u001b[0;34m(filepath_or_buffer, sep, delimiter, header, names, index_col, usecols, squeeze, prefix, mangle_dupe_cols, dtype, engine, converters, true_values, false_values, skipinitialspace, skiprows, skipfooter, nrows, na_values, keep_default_na, na_filter, verbose, skip_blank_lines, parse_dates, infer_datetime_format, keep_date_col, date_parser, dayfirst, cache_dates, iterator, chunksize, compression, thousands, decimal, lineterminator, quotechar, quoting, doublequote, escapechar, comment, encoding, encoding_errors, dialect, error_bad_lines, warn_bad_lines, on_bad_lines, delim_whitespace, low_memory, memory_map, float_precision, storage_options)\u001b[0m\n\u001b[1;32m    935\u001b[0m kwds_defaults \u001b[38;5;241m=\u001b[39m _refine_defaults_read(\n\u001b[1;32m    936\u001b[0m     dialect,\n\u001b[1;32m    937\u001b[0m     delimiter,\n\u001b[0;32m   (...)\u001b[0m\n\u001b[1;32m    946\u001b[0m     defaults\u001b[38;5;241m=\u001b[39m{\u001b[38;5;124m\"\u001b[39m\u001b[38;5;124mdelimiter\u001b[39m\u001b[38;5;124m\"\u001b[39m: \u001b[38;5;124m\"\u001b[39m\u001b[38;5;124m,\u001b[39m\u001b[38;5;124m\"\u001b[39m},\n\u001b[1;32m    947\u001b[0m )\n\u001b[1;32m    948\u001b[0m kwds\u001b[38;5;241m.\u001b[39mupdate(kwds_defaults)\n\u001b[0;32m--> 950\u001b[0m \u001b[38;5;28;01mreturn\u001b[39;00m \u001b[43m_read\u001b[49m\u001b[43m(\u001b[49m\u001b[43mfilepath_or_buffer\u001b[49m\u001b[43m,\u001b[49m\u001b[43m \u001b[49m\u001b[43mkwds\u001b[49m\u001b[43m)\u001b[49m\n",
      "File \u001b[0;32m/usr/local/lib/python3.10/site-packages/pandas/io/parsers/readers.py:605\u001b[0m, in \u001b[0;36m_read\u001b[0;34m(filepath_or_buffer, kwds)\u001b[0m\n\u001b[1;32m    602\u001b[0m _validate_names(kwds\u001b[38;5;241m.\u001b[39mget(\u001b[38;5;124m\"\u001b[39m\u001b[38;5;124mnames\u001b[39m\u001b[38;5;124m\"\u001b[39m, \u001b[38;5;28;01mNone\u001b[39;00m))\n\u001b[1;32m    604\u001b[0m \u001b[38;5;66;03m# Create the parser.\u001b[39;00m\n\u001b[0;32m--> 605\u001b[0m parser \u001b[38;5;241m=\u001b[39m \u001b[43mTextFileReader\u001b[49m\u001b[43m(\u001b[49m\u001b[43mfilepath_or_buffer\u001b[49m\u001b[43m,\u001b[49m\u001b[43m \u001b[49m\u001b[38;5;241;43m*\u001b[39;49m\u001b[38;5;241;43m*\u001b[39;49m\u001b[43mkwds\u001b[49m\u001b[43m)\u001b[49m\n\u001b[1;32m    607\u001b[0m \u001b[38;5;28;01mif\u001b[39;00m chunksize \u001b[38;5;129;01mor\u001b[39;00m iterator:\n\u001b[1;32m    608\u001b[0m     \u001b[38;5;28;01mreturn\u001b[39;00m parser\n",
      "File \u001b[0;32m/usr/local/lib/python3.10/site-packages/pandas/io/parsers/readers.py:1442\u001b[0m, in \u001b[0;36mTextFileReader.__init__\u001b[0;34m(self, f, engine, **kwds)\u001b[0m\n\u001b[1;32m   1439\u001b[0m     \u001b[38;5;28mself\u001b[39m\u001b[38;5;241m.\u001b[39moptions[\u001b[38;5;124m\"\u001b[39m\u001b[38;5;124mhas_index_names\u001b[39m\u001b[38;5;124m\"\u001b[39m] \u001b[38;5;241m=\u001b[39m kwds[\u001b[38;5;124m\"\u001b[39m\u001b[38;5;124mhas_index_names\u001b[39m\u001b[38;5;124m\"\u001b[39m]\n\u001b[1;32m   1441\u001b[0m \u001b[38;5;28mself\u001b[39m\u001b[38;5;241m.\u001b[39mhandles: IOHandles \u001b[38;5;241m|\u001b[39m \u001b[38;5;28;01mNone\u001b[39;00m \u001b[38;5;241m=\u001b[39m \u001b[38;5;28;01mNone\u001b[39;00m\n\u001b[0;32m-> 1442\u001b[0m \u001b[38;5;28mself\u001b[39m\u001b[38;5;241m.\u001b[39m_engine \u001b[38;5;241m=\u001b[39m \u001b[38;5;28;43mself\u001b[39;49m\u001b[38;5;241;43m.\u001b[39;49m\u001b[43m_make_engine\u001b[49m\u001b[43m(\u001b[49m\u001b[43mf\u001b[49m\u001b[43m,\u001b[49m\u001b[43m \u001b[49m\u001b[38;5;28;43mself\u001b[39;49m\u001b[38;5;241;43m.\u001b[39;49m\u001b[43mengine\u001b[49m\u001b[43m)\u001b[49m\n",
      "File \u001b[0;32m/usr/local/lib/python3.10/site-packages/pandas/io/parsers/readers.py:1729\u001b[0m, in \u001b[0;36mTextFileReader._make_engine\u001b[0;34m(self, f, engine)\u001b[0m\n\u001b[1;32m   1727\u001b[0m     is_text \u001b[38;5;241m=\u001b[39m \u001b[38;5;28;01mFalse\u001b[39;00m\n\u001b[1;32m   1728\u001b[0m     mode \u001b[38;5;241m=\u001b[39m \u001b[38;5;124m\"\u001b[39m\u001b[38;5;124mrb\u001b[39m\u001b[38;5;124m\"\u001b[39m\n\u001b[0;32m-> 1729\u001b[0m \u001b[38;5;28mself\u001b[39m\u001b[38;5;241m.\u001b[39mhandles \u001b[38;5;241m=\u001b[39m \u001b[43mget_handle\u001b[49m\u001b[43m(\u001b[49m\n\u001b[1;32m   1730\u001b[0m \u001b[43m    \u001b[49m\u001b[43mf\u001b[49m\u001b[43m,\u001b[49m\n\u001b[1;32m   1731\u001b[0m \u001b[43m    \u001b[49m\u001b[43mmode\u001b[49m\u001b[43m,\u001b[49m\n\u001b[1;32m   1732\u001b[0m \u001b[43m    \u001b[49m\u001b[43mencoding\u001b[49m\u001b[38;5;241;43m=\u001b[39;49m\u001b[38;5;28;43mself\u001b[39;49m\u001b[38;5;241;43m.\u001b[39;49m\u001b[43moptions\u001b[49m\u001b[38;5;241;43m.\u001b[39;49m\u001b[43mget\u001b[49m\u001b[43m(\u001b[49m\u001b[38;5;124;43m\"\u001b[39;49m\u001b[38;5;124;43mencoding\u001b[39;49m\u001b[38;5;124;43m\"\u001b[39;49m\u001b[43m,\u001b[49m\u001b[43m \u001b[49m\u001b[38;5;28;43;01mNone\u001b[39;49;00m\u001b[43m)\u001b[49m\u001b[43m,\u001b[49m\n\u001b[1;32m   1733\u001b[0m \u001b[43m    \u001b[49m\u001b[43mcompression\u001b[49m\u001b[38;5;241;43m=\u001b[39;49m\u001b[38;5;28;43mself\u001b[39;49m\u001b[38;5;241;43m.\u001b[39;49m\u001b[43moptions\u001b[49m\u001b[38;5;241;43m.\u001b[39;49m\u001b[43mget\u001b[49m\u001b[43m(\u001b[49m\u001b[38;5;124;43m\"\u001b[39;49m\u001b[38;5;124;43mcompression\u001b[39;49m\u001b[38;5;124;43m\"\u001b[39;49m\u001b[43m,\u001b[49m\u001b[43m \u001b[49m\u001b[38;5;28;43;01mNone\u001b[39;49;00m\u001b[43m)\u001b[49m\u001b[43m,\u001b[49m\n\u001b[1;32m   1734\u001b[0m \u001b[43m    \u001b[49m\u001b[43mmemory_map\u001b[49m\u001b[38;5;241;43m=\u001b[39;49m\u001b[38;5;28;43mself\u001b[39;49m\u001b[38;5;241;43m.\u001b[39;49m\u001b[43moptions\u001b[49m\u001b[38;5;241;43m.\u001b[39;49m\u001b[43mget\u001b[49m\u001b[43m(\u001b[49m\u001b[38;5;124;43m\"\u001b[39;49m\u001b[38;5;124;43mmemory_map\u001b[39;49m\u001b[38;5;124;43m\"\u001b[39;49m\u001b[43m,\u001b[49m\u001b[43m \u001b[49m\u001b[38;5;28;43;01mFalse\u001b[39;49;00m\u001b[43m)\u001b[49m\u001b[43m,\u001b[49m\n\u001b[1;32m   1735\u001b[0m \u001b[43m    \u001b[49m\u001b[43mis_text\u001b[49m\u001b[38;5;241;43m=\u001b[39;49m\u001b[43mis_text\u001b[49m\u001b[43m,\u001b[49m\n\u001b[1;32m   1736\u001b[0m \u001b[43m    \u001b[49m\u001b[43merrors\u001b[49m\u001b[38;5;241;43m=\u001b[39;49m\u001b[38;5;28;43mself\u001b[39;49m\u001b[38;5;241;43m.\u001b[39;49m\u001b[43moptions\u001b[49m\u001b[38;5;241;43m.\u001b[39;49m\u001b[43mget\u001b[49m\u001b[43m(\u001b[49m\u001b[38;5;124;43m\"\u001b[39;49m\u001b[38;5;124;43mencoding_errors\u001b[39;49m\u001b[38;5;124;43m\"\u001b[39;49m\u001b[43m,\u001b[49m\u001b[43m \u001b[49m\u001b[38;5;124;43m\"\u001b[39;49m\u001b[38;5;124;43mstrict\u001b[39;49m\u001b[38;5;124;43m\"\u001b[39;49m\u001b[43m)\u001b[49m\u001b[43m,\u001b[49m\n\u001b[1;32m   1737\u001b[0m \u001b[43m    \u001b[49m\u001b[43mstorage_options\u001b[49m\u001b[38;5;241;43m=\u001b[39;49m\u001b[38;5;28;43mself\u001b[39;49m\u001b[38;5;241;43m.\u001b[39;49m\u001b[43moptions\u001b[49m\u001b[38;5;241;43m.\u001b[39;49m\u001b[43mget\u001b[49m\u001b[43m(\u001b[49m\u001b[38;5;124;43m\"\u001b[39;49m\u001b[38;5;124;43mstorage_options\u001b[39;49m\u001b[38;5;124;43m\"\u001b[39;49m\u001b[43m,\u001b[49m\u001b[43m \u001b[49m\u001b[38;5;28;43;01mNone\u001b[39;49;00m\u001b[43m)\u001b[49m\u001b[43m,\u001b[49m\n\u001b[1;32m   1738\u001b[0m \u001b[43m\u001b[49m\u001b[43m)\u001b[49m\n\u001b[1;32m   1739\u001b[0m \u001b[38;5;28;01massert\u001b[39;00m \u001b[38;5;28mself\u001b[39m\u001b[38;5;241m.\u001b[39mhandles \u001b[38;5;129;01mis\u001b[39;00m \u001b[38;5;129;01mnot\u001b[39;00m \u001b[38;5;28;01mNone\u001b[39;00m\n\u001b[1;32m   1740\u001b[0m f \u001b[38;5;241m=\u001b[39m \u001b[38;5;28mself\u001b[39m\u001b[38;5;241m.\u001b[39mhandles\u001b[38;5;241m.\u001b[39mhandle\n",
      "File \u001b[0;32m/usr/local/lib/python3.10/site-packages/pandas/io/common.py:857\u001b[0m, in \u001b[0;36mget_handle\u001b[0;34m(path_or_buf, mode, encoding, compression, memory_map, is_text, errors, storage_options)\u001b[0m\n\u001b[1;32m    852\u001b[0m \u001b[38;5;28;01melif\u001b[39;00m \u001b[38;5;28misinstance\u001b[39m(handle, \u001b[38;5;28mstr\u001b[39m):\n\u001b[1;32m    853\u001b[0m     \u001b[38;5;66;03m# Check whether the filename is to be opened in binary mode.\u001b[39;00m\n\u001b[1;32m    854\u001b[0m     \u001b[38;5;66;03m# Binary mode does not support 'encoding' and 'newline'.\u001b[39;00m\n\u001b[1;32m    855\u001b[0m     \u001b[38;5;28;01mif\u001b[39;00m ioargs\u001b[38;5;241m.\u001b[39mencoding \u001b[38;5;129;01mand\u001b[39;00m \u001b[38;5;124m\"\u001b[39m\u001b[38;5;124mb\u001b[39m\u001b[38;5;124m\"\u001b[39m \u001b[38;5;129;01mnot\u001b[39;00m \u001b[38;5;129;01min\u001b[39;00m ioargs\u001b[38;5;241m.\u001b[39mmode:\n\u001b[1;32m    856\u001b[0m         \u001b[38;5;66;03m# Encoding\u001b[39;00m\n\u001b[0;32m--> 857\u001b[0m         handle \u001b[38;5;241m=\u001b[39m \u001b[38;5;28;43mopen\u001b[39;49m\u001b[43m(\u001b[49m\n\u001b[1;32m    858\u001b[0m \u001b[43m            \u001b[49m\u001b[43mhandle\u001b[49m\u001b[43m,\u001b[49m\n\u001b[1;32m    859\u001b[0m \u001b[43m            \u001b[49m\u001b[43mioargs\u001b[49m\u001b[38;5;241;43m.\u001b[39;49m\u001b[43mmode\u001b[49m\u001b[43m,\u001b[49m\n\u001b[1;32m    860\u001b[0m \u001b[43m            \u001b[49m\u001b[43mencoding\u001b[49m\u001b[38;5;241;43m=\u001b[39;49m\u001b[43mioargs\u001b[49m\u001b[38;5;241;43m.\u001b[39;49m\u001b[43mencoding\u001b[49m\u001b[43m,\u001b[49m\n\u001b[1;32m    861\u001b[0m \u001b[43m            \u001b[49m\u001b[43merrors\u001b[49m\u001b[38;5;241;43m=\u001b[39;49m\u001b[43merrors\u001b[49m\u001b[43m,\u001b[49m\n\u001b[1;32m    862\u001b[0m \u001b[43m            \u001b[49m\u001b[43mnewline\u001b[49m\u001b[38;5;241;43m=\u001b[39;49m\u001b[38;5;124;43m\"\u001b[39;49m\u001b[38;5;124;43m\"\u001b[39;49m\u001b[43m,\u001b[49m\n\u001b[1;32m    863\u001b[0m \u001b[43m        \u001b[49m\u001b[43m)\u001b[49m\n\u001b[1;32m    864\u001b[0m     \u001b[38;5;28;01melse\u001b[39;00m:\n\u001b[1;32m    865\u001b[0m         \u001b[38;5;66;03m# Binary mode\u001b[39;00m\n\u001b[1;32m    866\u001b[0m         handle \u001b[38;5;241m=\u001b[39m \u001b[38;5;28mopen\u001b[39m(handle, ioargs\u001b[38;5;241m.\u001b[39mmode)\n",
      "\u001b[0;31mFileNotFoundError\u001b[0m: [Errno 2] No such file or directory: 'KaDo.csv'"
     ]
    }
   ],
   "source": [
    "# import données client\n",
    "kaDo = pd.read_csv(\"../KaDo.csv\")\n",
    "kaDo = kaDo.set_index(\"CLI_ID\")"
   ]
  },
  {
   "cell_type": "code",
   "execution_count": null,
   "metadata": {},
   "outputs": [],
   "source": [
    "# récupération des achats de tout les clients dans ce cluster\n",
    "clientData = kaDo.loc[clusterClient.index.values]\n",
    "clientData"
   ]
  },
  {
   "cell_type": "code",
   "execution_count": null,
   "metadata": {},
   "outputs": [],
   "source": [
    "# recommandation par article le plus vendue dans le cluster\n",
    "salesPerItems = clientData[\"LIBELLE\"].value_counts()\n",
    "mostSalesItemsKey = salesPerItems.keys()[0]\n",
    "print(\"Objet recommander pour l'utilisateur : \", mostSalesItemsKey)\n"
   ]
  }
 ],
 "metadata": {
  "interpreter": {
   "hash": "701d4f28dcd0866722f5108a3a4cbcd08882d26398b6d44117e791d7b8102912"
  },
  "kernelspec": {
   "display_name": "Python 3.9.7 64-bit ('base': conda)",
   "language": "python",
   "name": "python3"
  },
  "language_info": {
   "codemirror_mode": {
    "name": "ipython",
    "version": 3
   },
   "file_extension": ".py",
   "mimetype": "text/x-python",
   "name": "python",
   "nbconvert_exporter": "python",
   "pygments_lexer": "ipython3",
   "version": "3.10.6"
  },
  "orig_nbformat": 4
 },
 "nbformat": 4,
 "nbformat_minor": 2
}
