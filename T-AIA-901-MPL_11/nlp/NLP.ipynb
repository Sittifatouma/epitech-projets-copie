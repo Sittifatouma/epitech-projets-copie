{
 "cells": [
  {
   "cell_type": "code",
   "execution_count": null,
   "metadata": {},
   "outputs": [],
   "source": [
    "# list of import\n",
    "import spacy\n",
    "from nltk.corpus import stopwords"
   ]
  },
  {
   "cell_type": "code",
   "execution_count": null,
   "metadata": {},
   "outputs": [],
   "source": [
    "nlp = spacy.load(\"fr_core_news_sm\")\n",
    "sentence = \"Je souhaite partir de Montpellier pour me rendre à Paris.\"\n",
    "\n",
    "text_file = open(\"test_sentences.txt\", \"r\")\n",
    "lines = text_file.readlines()\n",
    "test_sentences = []\n",
    "\n",
    "for l in lines:\n",
    "  test_sentences.append(l.rstrip())\n",
    "\n",
    "print('Affichages des 5 premières phrases : ', test_sentences[:5])\n",
    "print('Nombre total de phrases de test :', len(test_sentences))\n",
    "text_file.close()\n"
   ]
  },
  {
   "cell_type": "code",
   "execution_count": null,
   "metadata": {},
   "outputs": [],
   "source": [
    "# Tokenisation de la phrase\n",
    "def return_token(sentence):\n",
    "    # Tokeniser la phrase\n",
    "    doc = nlp(sentence)\n",
    "    # Retourner le texte de chaque token\n",
    "    return [X.text for X in doc]\n",
    "\n",
    "tokenized_sentence = return_token(sentence)\n",
    "tokenized_sentence"
   ]
  },
  {
   "cell_type": "code",
   "execution_count": null,
   "metadata": {},
   "outputs": [],
   "source": [
    "# L’étiquetage morpho-syntaxique\n",
    "def return_POS(sentence):\n",
    "    # Tokeniser la phrase\n",
    "    doc = nlp(sentence)\n",
    "    # Retourner les étiquettes de chaque token\n",
    "    return [(X, X.pos_) for X in doc]\n",
    "  \n",
    "sentence_position = return_POS(sentence)\n",
    "sentence_position\n"
   ]
  },
  {
   "cell_type": "code",
   "execution_count": null,
   "metadata": {},
   "outputs": [],
   "source": [
    "# Suppression des mots inutile\n",
    "# Import des stopWords \n",
    "\n",
    "def clear_sentence(sentence):\n",
    "    stopWords = set(stopwords.words('french'))\n",
    "\n",
    "    clean_sentence = []\n",
    "    for token in return_token(sentence):\n",
    "        if token not in stopWords:\n",
    "            clean_sentence.append(token)\n",
    "\n",
    "    return clean_sentence\n",
    "\n",
    "clear_sentence(sentence)\n"
   ]
  },
  {
   "cell_type": "code",
   "execution_count": null,
   "metadata": {},
   "outputs": [],
   "source": [
    "# Reconnaissance d’entités nommées\n",
    "def return_LOC(sentence):\n",
    "    # Tokeniser la phrase\n",
    "    doc = nlp(sentence)\n",
    "    # Retourner le texte et le label pour chaque entité\n",
    "    return [(X.text, X.label_) for X in doc.ents]\n",
    "\n",
    "sentence_position = return_LOC(sentence)\n",
    "sentence_position"
   ]
  },
  {
   "cell_type": "code",
   "execution_count": null,
   "metadata": {},
   "outputs": [],
   "source": [
    "# Test des fonctions avec les phrases de test\n",
    "\n",
    "for sentence in test_sentences:\n",
    "  print(sentence)\n",
    "  print(return_token(sentence))\n",
    "  print(return_POS(sentence))\n",
    "  print(clear_sentence(sentence))\n",
    "  print(return_LOC(sentence))\n",
    "  print('\\n')\n",
    "  \n",
    "  "
   ]
  }
 ],
 "metadata": {
  "interpreter": {
   "hash": "701d4f28dcd0866722f5108a3a4cbcd08882d26398b6d44117e791d7b8102912"
  },
  "kernelspec": {
   "display_name": "Python 3.9.7 64-bit ('base': conda)",
   "language": "python",
   "name": "python3"
  },
  "language_info": {
   "codemirror_mode": {
    "name": "ipython",
    "version": 3
   },
   "file_extension": ".py",
   "mimetype": "text/x-python",
   "name": "python",
   "nbconvert_exporter": "python",
   "pygments_lexer": "ipython3",
   "version": "3.9.7"
  },
  "orig_nbformat": 4
 },
 "nbformat": 4,
 "nbformat_minor": 2
}
