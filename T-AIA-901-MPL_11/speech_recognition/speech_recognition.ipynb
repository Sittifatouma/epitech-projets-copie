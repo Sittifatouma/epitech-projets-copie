{
 "cells": [
  {
   "cell_type": "code",
   "execution_count": 6,
   "metadata": {},
   "outputs": [],
   "source": [
    "import speech_recognition as sr  "
   ]
  },
  {
   "cell_type": "code",
   "execution_count": 10,
   "metadata": {},
   "outputs": [
    {
     "name": "stdout",
     "output_type": "stream",
     "text": [
      "Dites quelque chose\n",
      "Vous avez dit : test test 1 2 3 4\n"
     ]
    }
   ],
   "source": [
    "r  = sr.Recognizer()\n",
    "with sr.Microphone() as source:\n",
    "    print(\"Dites quelque chose\")\n",
    "    audio = r.listen(source)\n",
    "try:\n",
    "    text = r.recognize_google(audio, language=\"fr-FR\")\n",
    "    print(\"Vous avez dit : \" + text)\n",
    "except sr.UnknownValueError:\n",
    "    print(\"L'audio n'as pas été compris\")\n",
    "except sr.RequestError as e:\n",
    "    print(\"Le service Google Speech API ne fonctionne plus\" + format(e))"
   ]
  }
 ],
 "metadata": {
  "interpreter": {
   "hash": "701d4f28dcd0866722f5108a3a4cbcd08882d26398b6d44117e791d7b8102912"
  },
  "kernelspec": {
   "display_name": "Python 3.9.7 64-bit ('base': conda)",
   "language": "python",
   "name": "python3"
  },
  "language_info": {
   "codemirror_mode": {
    "name": "ipython",
    "version": 3
   },
   "file_extension": ".py",
   "mimetype": "text/x-python",
   "name": "python",
   "nbconvert_exporter": "python",
   "pygments_lexer": "ipython3",
   "version": "3.9.7"
  },
  "orig_nbformat": 4
 },
 "nbformat": 4,
 "nbformat_minor": 2
}
