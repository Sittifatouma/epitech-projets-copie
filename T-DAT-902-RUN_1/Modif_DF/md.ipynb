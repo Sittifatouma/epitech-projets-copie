{
 "cells": [
  {
   "cell_type": "code",
   "execution_count": 2,
   "metadata": {},
   "outputs": [],
   "source": [
    "import pandas as pd \n",
    "import seaborn as sns"
   ]
  },
  {
   "cell_type": "code",
   "execution_count": 3,
   "metadata": {},
   "outputs": [
    {
     "data": {
      "text/html": [
       "<div>\n",
       "<style scoped>\n",
       "    .dataframe tbody tr th:only-of-type {\n",
       "        vertical-align: middle;\n",
       "    }\n",
       "\n",
       "    .dataframe tbody tr th {\n",
       "        vertical-align: top;\n",
       "    }\n",
       "\n",
       "    .dataframe thead th {\n",
       "        text-align: right;\n",
       "    }\n",
       "</style>\n",
       "<table border=\"1\" class=\"dataframe\">\n",
       "  <thead>\n",
       "    <tr style=\"text-align: right;\">\n",
       "      <th></th>\n",
       "      <th>image</th>\n",
       "      <th>cluster</th>\n",
       "    </tr>\n",
       "  </thead>\n",
       "  <tbody>\n",
       "    <tr>\n",
       "      <th>0</th>\n",
       "      <td>tt2321249.jpg</td>\n",
       "      <td>2</td>\n",
       "    </tr>\n",
       "    <tr>\n",
       "      <th>1</th>\n",
       "      <td>tt1477076.jpg</td>\n",
       "      <td>2</td>\n",
       "    </tr>\n",
       "    <tr>\n",
       "      <th>2</th>\n",
       "      <td>tt0089504.jpg</td>\n",
       "      <td>6</td>\n",
       "    </tr>\n",
       "    <tr>\n",
       "      <th>3</th>\n",
       "      <td>tt0089504.jpg</td>\n",
       "      <td>2</td>\n",
       "    </tr>\n",
       "    <tr>\n",
       "      <th>4</th>\n",
       "      <td>tt0086637.jpg</td>\n",
       "      <td>3</td>\n",
       "    </tr>\n",
       "  </tbody>\n",
       "</table>\n",
       "</div>"
      ],
      "text/plain": [
       "           image  cluster\n",
       "0  tt2321249.jpg        2\n",
       "1  tt1477076.jpg        2\n",
       "2  tt0089504.jpg        6\n",
       "3  tt0089504.jpg        2\n",
       "4  tt0086637.jpg        3"
      ]
     },
     "execution_count": 3,
     "metadata": {},
     "output_type": "execute_result"
    }
   ],
   "source": [
    "data = pd.read_csv(r\"/Users/dimitriraymond/Documents/Epitech/Semestre 2/DAT/resultc/resultats_clusters23.csv\")\n",
    "data.shape\n",
    "data.head()"
   ]
  },
  {
   "cell_type": "code",
   "execution_count": 4,
   "metadata": {},
   "outputs": [
    {
     "name": "stdout",
     "output_type": "stream",
     "text": [
      "(11160, 2)\n",
      "              id  cluster\n",
      "0  tt2321249.jpg        2\n",
      "1  tt1477076.jpg        2\n",
      "2  tt0089504.jpg        6\n",
      "3  tt0089504.jpg        2\n",
      "4  tt0086637.jpg        3\n"
     ]
    }
   ],
   "source": [
    "# Renommer la colonne \"image\" en \"id\"\n",
    "data = data.rename(columns={\"image\": \"id\"})\n",
    "\n",
    "# Afficher la forme du DataFrame modifié\n",
    "print(data.shape)\n",
    "\n",
    "# Afficher les premières lignes du DataFrame modifié\n",
    "print(data.head())"
   ]
  },
  {
   "cell_type": "code",
   "execution_count": 5,
   "metadata": {},
   "outputs": [
    {
     "name": "stdout",
     "output_type": "stream",
     "text": [
      "          id  cluster\n",
      "0  tt2321249        2\n",
      "1  tt1477076        2\n",
      "2  tt0089504        6\n",
      "3  tt0089504        2\n",
      "4  tt0086637        3\n"
     ]
    },
    {
     "name": "stderr",
     "output_type": "stream",
     "text": [
      "/var/folders/wm/n1rrkfr90p706kj4_1pjy0000000gn/T/ipykernel_12710/224879356.py:2: FutureWarning: The default value of regex will change from True to False in a future version.\n",
      "  data['id'] = data['id'].str.replace('.jpg', '')\n"
     ]
    }
   ],
   "source": [
    "# Supprimer l'extension \".jpg\" dans la colonne \"id\"\n",
    "data['id'] = data['id'].str.replace('.jpg', '')\n",
    "\n",
    "# Afficher les premières lignes du DataFrame modifié\n",
    "print(data.head())"
   ]
  },
  {
   "cell_type": "code",
   "execution_count": 6,
   "metadata": {},
   "outputs": [],
   "source": [
    "data.to_csv(r\"/Users/dimitriraymond/Documents/Epitech/Semestre 2/DAT/resultc/resultats_clusters24.csv\", index=False)"
   ]
  },
  {
   "cell_type": "code",
   "execution_count": 8,
   "metadata": {},
   "outputs": [],
   "source": [
    "import pandas as pd\n",
    "\n",
    "# Charger le premier fichier CSV\n",
    "data1 = pd.read_csv(r\"/Users/dimitriraymond/Documents/Epitech/Semestre 2/DAT/resultc/resultats_clusters24.csv\")\n",
    "\n",
    "# Charger le deuxième fichier CSV\n",
    "data2 = pd.read_csv(r\"/Users/dimitriraymond/Documents/Epitech/Semestre 2/DAT/resultc/data481.csv\")\n",
    "\n",
    "# Fusionner les deux DataFrames en utilisant la colonne \"id\"\n",
    "merged_data = pd.merge(data1, data2, on='id')\n",
    "\n",
    "# Écrire le résultat dans un nouveau fichier CSV\n",
    "merged_data.to_csv(r\"/Users/dimitriraymond/Documents/Epitech/Semestre 2/DAT/resultc/cluster_number1.csv\", index=False)\n"
   ]
  }
 ],
 "metadata": {
  "kernelspec": {
   "display_name": "Python 3",
   "language": "python",
   "name": "python3"
  },
  "language_info": {
   "codemirror_mode": {
    "name": "ipython",
    "version": 3
   },
   "file_extension": ".py",
   "mimetype": "text/x-python",
   "name": "python",
   "nbconvert_exporter": "python",
   "pygments_lexer": "ipython3",
   "version": "3.11.2"
  },
  "orig_nbformat": 4
 },
 "nbformat": 4,
 "nbformat_minor": 2
}
