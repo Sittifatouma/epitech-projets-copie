{
 "cells": [
  {
   "cell_type": "code",
   "execution_count": 10,
   "metadata": {},
   "outputs": [
    {
     "name": "stdout",
     "output_type": "stream",
     "text": [
      "['_ GLINTP', 'BASTWOOD', '', 'DIRTY HARRY IS AT IT AGAIN', '', 'sEN', 'iMPACT', '', '']\n"
     ]
    }
   ],
   "source": [
    "# text recognition\n",
    "import cv2\n",
    "import pytesseract\n",
    "\n",
    "\n",
    "# read image\n",
    "img = cv2.imread(r\"/Users/dimitriraymond/Documents/Epitech/Semestre 2/DAT/test6.jpg\")\n",
    "\n",
    "# configurations\n",
    "config = ('-l eng --oem 1 --psm 3')\n",
    "\n",
    "text = pytesseract.image_to_string(img, config=config)\n",
    "\n",
    "# print results\n",
    "text = text.split('\\n')\n",
    "print(text)"
   ]
  },
  {
   "cell_type": "code",
   "execution_count": 11,
   "metadata": {},
   "outputs": [
    {
     "name": "stdout",
     "output_type": "stream",
     "text": [
      "Position du texte : Haut\n"
     ]
    }
   ],
   "source": [
    "# text recognition\n",
    "import cv2\n",
    "import pytesseract\n",
    "\n",
    "\n",
    "# read image\n",
    "img = cv2.imread(r\"/Users/dimitriraymond/Documents/Epitech/Semestre 2/DAT/test6.jpg\")\n",
    "\n",
    "# configurations\n",
    "config = ('-l eng --oem 1 --psm 3')\n",
    "\n",
    "text = pytesseract.image_to_string(img, config=config)\n",
    "# Calculer la position verticale du texte\n",
    "image_height = img.shape[0]\n",
    "text_height = len(text)\n",
    "text_position = \"\"\n",
    "\n",
    "if text_height > 0:\n",
    "    text_ratio = text_height / image_height\n",
    "\n",
    "    if text_ratio < 0.33:\n",
    "        text_position = \"Haut\"\n",
    "    elif text_ratio < 0.66:\n",
    "        text_position = \"Milieu\"\n",
    "    else:\n",
    "        text_position = \"Bas\"\n",
    "\n",
    "# Afficher la position du texte\n",
    "print(\"Position du texte :\", text_position)\n"
   ]
  },
  {
   "cell_type": "code",
   "execution_count": 6,
   "metadata": {},
   "outputs": [
    {
     "name": "stdout",
     "output_type": "stream",
     "text": [
      "La taille du titre est : gros\n"
     ]
    }
   ],
   "source": [
    "import cv2\n",
    "\n",
    "def detecter_taille_titre(image_path):\n",
    "    # Charger l'image avec OpenCV\n",
    "    image = cv2.imread(image_path)\n",
    "\n",
    "    # Convertir l'image en niveaux de gris\n",
    "    gray = cv2.cvtColor(image, cv2.COLOR_BGR2GRAY)\n",
    "\n",
    "    # Appliquer un seuillage adaptatif pour obtenir une image binaire\n",
    "    _, binary = cv2.threshold(gray, 0, 255, cv2.THRESH_BINARY_INV | cv2.THRESH_OTSU)\n",
    "\n",
    "    # Appliquer une opération de fermeture pour connecter les caractères du titre\n",
    "    kernel = cv2.getStructuringElement(cv2.MORPH_RECT, (5, 5))\n",
    "    closed = cv2.morphologyEx(binary, cv2.MORPH_CLOSE, kernel)\n",
    "\n",
    "    # Trouver les contours dans l'image\n",
    "    contours, _ = cv2.findContours(closed, cv2.RETR_EXTERNAL, cv2.CHAIN_APPROX_SIMPLE)\n",
    "\n",
    "    # Trier les contours par aire décroissante\n",
    "    contours = sorted(contours, key=cv2.contourArea, reverse=True)\n",
    "\n",
    "    # Sélectionner le contour correspondant au titre (le plus grand contour)\n",
    "    contour_titre = contours[0]\n",
    "\n",
    "    # Récupérer les coordonnées du rectangle englobant pour le contour du titre\n",
    "    x, y, w, h = cv2.boundingRect(contour_titre)\n",
    "\n",
    "    # Calculer la taille relative du rectangle englobant par rapport à la taille de l'image\n",
    "    hauteur, largeur = image.shape[:2]\n",
    "    taille_relative = w / largeur\n",
    "\n",
    "    # Déterminer la taille du titre en fonction de la taille relative\n",
    "    taille_titre = \"\"\n",
    "    if taille_relative < 0.2:\n",
    "        taille_titre = \"très petit\"\n",
    "    elif taille_relative < 0.4:\n",
    "        taille_titre = \"petit\"\n",
    "    elif taille_relative < 0.6:\n",
    "        taille_titre = \"moyen\"\n",
    "    else:\n",
    "        taille_titre = \"gros\"\n",
    "\n",
    "    return taille_titre\n",
    "\n",
    "# Chemin vers l'image contenant le poster de film\n",
    "chemin_image = r\"/Users/dimitriraymond/Documents/Epitech/Semestre 2/DAT/test2.jpg\"\n",
    "\n",
    "# Appeler la fonction pour détecter la taille du titre\n",
    "taille_titre = detecter_taille_titre(chemin_image)\n",
    "\n",
    "# Afficher le résultat\n",
    "print(\"La taille du titre est :\", taille_titre)\n"
   ]
  },
  {
   "cell_type": "code",
   "execution_count": 9,
   "metadata": {},
   "outputs": [
    {
     "name": "stdout",
     "output_type": "stream",
     "text": [
      "Le titre de l'image est : \n"
     ]
    }
   ],
   "source": [
    "import cv2\n",
    "import pytesseract\n",
    "\n",
    "def extraire_titre(image_path):\n",
    "    # Charger l'image avec OpenCV\n",
    "    image = cv2.imread(image_path)\n",
    "\n",
    "    # Convertir l'image en niveaux de gris\n",
    "    gray = cv2.cvtColor(image, cv2.COLOR_BGR2GRAY)\n",
    "\n",
    "    # Appliquer un traitement d'image pour améliorer la lisibilité du texte (par exemple, seuillage adaptatif)\n",
    "    processed = cv2.adaptiveThreshold(gray, 255, cv2.ADAPTIVE_THRESH_MEAN_C, cv2.THRESH_BINARY, 11, 2)\n",
    "\n",
    "    # Utiliser Tesseract pour extraire le texte du titre\n",
    "    titre = pytesseract.image_to_string(processed, lang='eng')\n",
    "\n",
    "    return titre\n",
    "\n",
    "# Chemin vers l'image contenant le poster de film\n",
    "chemin_image = r\"/Users/dimitriraymond/Documents/Epitech/Semestre 2/DAT/test.jpg\"\n",
    "\n",
    "# Appeler la fonction pour extraire le titre\n",
    "titre = extraire_titre(chemin_image)\n",
    "\n",
    "# Afficher le résultat\n",
    "print(\"Le titre de l'image est :\", titre)\n"
   ]
  },
  {
   "cell_type": "code",
   "execution_count": 7,
   "metadata": {},
   "outputs": [
    {
     "name": "stdout",
     "output_type": "stream",
     "text": [
      "Texte du titre : \n"
     ]
    }
   ],
   "source": [
    "import cv2\n",
    "import pytesseract\n",
    "\n",
    "def detecter_titre(image_path):\n",
    "    # Charger l'image avec OpenCV\n",
    "    image = cv2.imread(image_path)\n",
    "\n",
    "    # Convertir l'image en niveaux de gris\n",
    "    gray = cv2.cvtColor(image, cv2.COLOR_BGR2GRAY)\n",
    "\n",
    "    # Appliquer un traitement d'image pour améliorer la lisibilité du texte (par exemple, seuillage adaptatif)\n",
    "    processed = cv2.adaptiveThreshold(gray, 255, cv2.ADAPTIVE_THRESH_MEAN_C, cv2.THRESH_BINARY, 11, 2)\n",
    "\n",
    "    # Utiliser Tesseract pour détecter le texte dans l'image\n",
    "    texte = pytesseract.image_to_string(processed, lang='eng')\n",
    "\n",
    "    return texte\n",
    "\n",
    "# Chemin vers l'image contenant le poster de film\n",
    "chemin_image = r\"/Users/dimitriraymond/Documents/Epitech/Semestre 2/DAT/test.jpg\"\n",
    "\n",
    "# Appeler la fonction pour détecter le titre dans l'image\n",
    "texte_titre = detecter_titre(chemin_image)\n",
    "\n",
    "# Afficher le texte du titre\n",
    "print(\"Texte du titre :\", texte_titre)\n"
   ]
  },
  {
   "cell_type": "code",
   "execution_count": 1,
   "metadata": {},
   "outputs": [
    {
     "name": "stdout",
     "output_type": "stream",
     "text": [
      "\n",
      "Number of boxes: 5\n"
     ]
    }
   ],
   "source": [
    "from PIL import Image\n",
    "import pytesseract\n",
    "from pytesseract import Output\n",
    "import cv2\n",
    " \n",
    "source = r\"/Users/dimitriraymond/Documents/Epitech/Semestre 2/DAT/ham.jpg\"\n",
    "img = cv2.imread(source)\n",
    "text=pytesseract.image_to_string(img)\n",
    "print(text)\n",
    "d = pytesseract.image_to_data(img, output_type=Output.DICT)\n",
    " \n",
    "NbBox = len(d['level'])\n",
    "print (\"Number of boxes: {}\".format(NbBox))\n",
    "for i in range(NbBox):\n",
    "    (x, y, w, h) = (d['left'][i], d['top'][i], d['width'][i], d['height'][i])\n",
    "    # display rectangle\n",
    "    cv2.rectangle(img, (x, y), (x + w, y + h), (0, 255, 0), 2)\n",
    " \n",
    "cv2.imshow('img', img)\n",
    "cv2.waitKey(0)\n",
    "cv2.destroyAllWindows()"
   ]
  },
  {
   "cell_type": "code",
   "execution_count": 16,
   "metadata": {},
   "outputs": [
    {
     "name": "stdout",
     "output_type": "stream",
     "text": [
      "Title: fun a [peel apie peter Inacold world you need your friends _ tokeép you WLAN Hue GLEN CASE WARY KAY PLACE TAMILUAMS\n"
     ]
    }
   ],
   "source": [
    "import cv2\n",
    "import pytesseract\n",
    "\n",
    "# read image\n",
    "img = cv2.imread(r\"/Users/dimitriraymond/Documents/Epitech/Semestre 2/DAT/test3.jpg\")\n",
    "\n",
    "# configurations\n",
    "config = ('-l eng --oem 1 --psm 3')\n",
    "\n",
    "text = pytesseract.image_to_string(img, config=config)\n",
    "\n",
    "# split the extracted text into lines\n",
    "text_lines = text.split('\\n')\n",
    "\n",
    "# filter the lines to include only the title based on length\n",
    "filtered_lines = [line.strip() for line in text_lines if len(line.strip()) > 0 and len(line.strip()) <= 50]\n",
    "\n",
    "# join the filtered lines to get the title\n",
    "title = ' '.join(filtered_lines)\n",
    "\n",
    "# print the extracted title\n",
    "print(\"Title:\", title)\n"
   ]
  },
  {
   "cell_type": "code",
   "execution_count": 2,
   "metadata": {},
   "outputs": [
    {
     "name": "stdout",
     "output_type": "stream",
     "text": [
      "Texte détecté:\n",
      "Wade RT RS Tag then? a\n",
      "2 Lx. 2 pe tee wha ns A ae ee\n",
      "AG ee a oe scr ase ee vee ES iors\n",
      "PAS} ce TRS eee mo cet ee ere “ORR S84\n",
      "ye | rae ees Sik zcidasl TT : We ce ee fen\n",
      "a 1 circ. oy ee aes Speed Cig. Satan ST ee Eas: a\n",
      "SYiLt pause ope eee Sie yo Tere Spe et ee spe eee Sey\n",
      "S arm ancora erie, bo 2eS Sea ig PMS Sa eR ea atten UE te eerie Ries eee\n",
      "senegal Gee Rs Ae ee EAN,\n",
      "fs pp ect fee oo Fae Tore PEASE ies Peay ryste yr es ye ne Si Seer 5 3¢8\n",
      "8 OSH ete AO ARE a Rey cee Seas MES ese oor,\n",
      "rege (a) tee pore Or\n",
      "goes Westin cdees i rar NT re IG eee eee ve\n",
      "eho meee ete ora ye 5! eee | Be hee yy pene = 2) WE ee RES talk\n",
      "Band wiser cag ee eae: oe) [ee SY FH Eee es ee phees (er tt\n",
      "re ere PERE Tan RG Si Rae nfs SESE pon OS:\n",
      "SCANS ae) a a ie SE DTG Cage ee\n",
      ":Nibr a Ween LSS, ee LY Ze a eee a SN ee ‘\n",
      "eres Se ee IAS NS a 7G. 1G TA eee\n",
      "BGS NADL Oia 9 GS Ce ee N Go e fe NESS tip SHH Ae eg eoN oe\n",
      "ESS PE ia ee ee freed ott Sy Nae BINT So Li fej SSL eral et:\n",
      "eons Ameen a ORT ENT aRY BEY BOSE oo NWS SAIN\n",
      "eae. SUS Gta ae ty Pane are sane Bey EAI NSE eet Da ea BS Re\n",
      "BONS Caer ear f eee RNC See > ike ee\n",
      "see Fishy Ef eee pavers uN 2 eae Sr A eee\n",
      "ener sy HEINE tay op ae Ve eN Sa | Saath Be Ret\n",
      "fee tS Pee bh dG wD i gl Neat YA e ten Jovane ‘i PAL ey\n",
      "Derpese | ey i Ha fai Nee yea, fN SANS A pease a ee\n",
      "CRG AP nee! FUL e nerd De me escay <2 Th OP oN ay ee De ree man\n",
      "pee Wr: A Teer Wee en\n",
      "OMAN Serre es tes tee (al ASS JAM Pea RS | Or NON peer\n",
      "Nie eee Sa lea 1 ARS pppfiee oS Sa SE er ges\n",
      "Aah Oe ety tune ee 10 aoa \\ [Eee He SOG\n",
      "es Pe ave ES [tare WE oan a\n",
      "oie OAT eee Et /ouae lie Srey, Le Genes\n",
      "oor ie d EN i 2a \"i ay . fs | ; Rae ty i So ae ee\n",
      "ARGENT, wha Boot Sey Ap Rae pas ea ae\n",
      "vic aunt: | Kes ye a” 1 aa Ben cra Cag oN ee. ies oe\n",
      "SE ebay! NA aS TM rece es See kes\n",
      "Sethe Var, all Ee Ge.\n",
      "ee Rea ach Wan Vee RS | HO i fe carr a rn a ANS ate\n",
      "Musseme Ned a es imeem ae\n",
      "Re Ca eee! Ay een ee 2 Ne ‘4 RSet uate\n",
      "ey se oN Be ie, em eR: bsg Ae | | eae a Bah ence ae\n",
      "ES yeh REY J SAT: ae. GERD Mo i UE Bee i fe BOE PORN ne Ps\n",
      "Aa ome fete a | oa NER, (ec oce| | Be aera 7g eS ar es\n",
      "ee Rae N I a i a as __) FS pd fod h en wah. AP if | Sas Reet\n",
      "Bee Re Ar Ee cates | Sean Se Sek 7 Pee tenet A REED CEN eens: See Perk\n",
      "ee] RIE 2 EN Wie Say erate feo ase ik\n",
      "Bere) Hee Gace VARs Safa ett tk BS Ais fie Sicetcode 5 oe 8 ae Oe Bare\n",
      "Po ee Wee Urge sh LO EE See {ree a MBS is\n",
      "Pe ren G Sie fee (eicatek e ceo] eat & ee eek ee a\n",
      "OS i 3s teed or ae ce iy Pe BON | ee ARERR SS Ue Eee tag PRA TA YS\n",
      "Sao Fe Fas tars ne a Jey BAW Avo\n",
      "Par se oy eg Aen SERIEORIGINALEINE TELEX tea rereeie hes eran ON\n",
      "Aes us Md AG _?Z Lea We Was 2B Brees oad ie: er\n",
      "A pe pity f te f Rar AS Se Se ae\n",
      "wees EIN! LI DYN Hl PTET met ees\n",
      "peters sore eS i » =| ane | Pal © } 4 {©) eq Ay eae N\n",
      "= paisa eer ag A cae et Letcadl a ae di ONES aw f “A See\n",
      "Sy 3) at Gn 5 cleo ey peta,\n",
      "SEES | S ‘Bore : : NY Aone EEE: Bp)z a NS oe\n",
      "ee) 24 IL D. IBDAGY 2] ee (COBY Se\n",
      "th Faia pe ER eet tf nie eceeltan ad eraie i hea Te\n",
      "Yee|) © PSIDECENBRES NETELIN: | se\n",
      "BES NIRS Bt! pied bass Cla eye en cores Fe i eemrera ve i9s ae\n",
      "ec heed | ly Je NY le sere ait see ee\n",
      "eee a , RA Cie CRe RE eee Chae din\n",
      "SS a en a oY ye! ee See\n",
      "_ 4 PRA ARTS eee ee CAF) aetna ty\n",
      "\n"
     ]
    }
   ],
   "source": [
    "import cv2\n",
    "import pytesseract\n",
    "\n",
    "# Chemin vers l'image\n",
    "chemin_image = r\"/Users/dimitriraymond/Documents/Epitech/Semestre 2/DAT/Brid.jpeg\"\n",
    "\n",
    "# Charger l'image avec OpenCV\n",
    "image = cv2.imread(chemin_image)\n",
    "\n",
    "# Convertir l'image en niveaux de gris\n",
    "gray = cv2.cvtColor(image, cv2.COLOR_BGR2GRAY)\n",
    "\n",
    "# Ajuster le contraste de l'image\n",
    "clahe = cv2.createCLAHE(clipLimit=2.0, tileGridSize=(8, 8))\n",
    "contrast = clahe.apply(gray)\n",
    "\n",
    "# Appliquer un seuillage adaptatif pour améliorer la lisibilité du texte\n",
    "processed = cv2.adaptiveThreshold(contrast, 255, cv2.ADAPTIVE_THRESH_MEAN_C, cv2.THRESH_BINARY, 11, 2)\n",
    "\n",
    "# Configurations pour Tesseract OCR\n",
    "config = '--psm 6'\n",
    "\n",
    "# Utiliser Tesseract pour détecter les textes dans l'image\n",
    "text = pytesseract.image_to_string(processed, config=config)\n",
    "\n",
    "# Afficher le résultat\n",
    "print(\"Texte détecté:\")\n",
    "print(text)\n"
   ]
  }
 ],
 "metadata": {
  "kernelspec": {
   "display_name": "Python 3",
   "language": "python",
   "name": "python3"
  },
  "language_info": {
   "codemirror_mode": {
    "name": "ipython",
    "version": 3
   },
   "file_extension": ".py",
   "mimetype": "text/x-python",
   "name": "python",
   "nbconvert_exporter": "python",
   "pygments_lexer": "ipython3",
   "version": "3.11.2"
  },
  "orig_nbformat": 4
 },
 "nbformat": 4,
 "nbformat_minor": 2
}
