{
 "cells": [
  {
   "cell_type": "code",
   "execution_count": 23,
   "metadata": {},
   "outputs": [],
   "source": [
    "import os\n",
    "import csv\n",
    "\n",
    "def generer_csv(dossier_racine):\n",
    "    with open('resultat4.csv', 'w', newline='') as csvfile:\n",
    "        writer = csv.writer(csvfile)\n",
    "        writer.writerow(['ID', 'Nom du dossier'])\n",
    "\n",
    "        for dossier in os.listdir(dossier_racine):\n",
    "            chemin_dossier = os.path.join(dossier_racine, dossier)\n",
    "            if os.path.isdir(chemin_dossier):\n",
    "                for fichier in os.listdir(chemin_dossier):\n",
    "                    if fichier.endswith('.jpg'):  # Assurez-vous d'ajuster l'extension selon vos besoins\n",
    "                        id_image = os.path.splitext(fichier)[0]\n",
    "                        writer.writerow([id_image, dossier])\n",
    "\n",
    "# Exemple d'utilisation\n",
    "dossier_racine = r\"/Users/dimitriraymond/Documents/Epitech/Semestre 2/DAT/data/Movie_Poster_Dataset\"\n",
    "generer_csv(dossier_racine)\n"
   ]
  }
 ],
 "metadata": {
  "kernelspec": {
   "display_name": "Python 3",
   "language": "python",
   "name": "python3"
  },
  "language_info": {
   "codemirror_mode": {
    "name": "ipython",
    "version": 3
   },
   "file_extension": ".py",
   "mimetype": "text/x-python",
   "name": "python",
   "nbconvert_exporter": "python",
   "pygments_lexer": "ipython3",
   "version": "3.11.2"
  },
  "orig_nbformat": 4
 },
 "nbformat": 4,
 "nbformat_minor": 2
}
