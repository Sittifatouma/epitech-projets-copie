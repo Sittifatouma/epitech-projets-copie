{
 "cells": [
  {
   "cell_type": "code",
   "execution_count": null,
   "metadata": {},
   "outputs": [],
   "source": [
    "import cv2\n",
    "import pytesseract\n",
    "import os\n",
    "import csv\n",
    "\n",
    "# Chemin vers le dossier contenant les photos\n",
    "dossier_photos = r\"/Users/dimitriraymond/Documents/Epitech/Semestre 2/DAT/image_test\""
   ]
  },
  {
   "cell_type": "code",
   "execution_count": 1,
   "metadata": {},
   "outputs": [
    {
     "name": "stdout",
     "output_type": "stream",
     "text": [
      "Terminé. Les résultats ont été enregistrés dans /Users/dimitriraymond/Documents/Epitech/Semestre 2/DAT/resultc/data483.csv\n"
     ]
    }
   ],
   "source": [
    "# Liste pour stocker les résultats\n",
    "resultats = []\n",
    "\n",
    "# Parcourir les fichiers du dossier de photos\n",
    "for fichier in os.listdir(dossier_photos):\n",
    "    # Vérifier si le fichier est une image\n",
    "    if fichier.lower().endswith((\".jpg\", \".jpeg\", \".png\")):\n",
    "        # Chemin complet vers l'image\n",
    "        chemin_image = os.path.join(dossier_photos, fichier)\n",
    "\n",
    "        # Chargement de l'image\n",
    "        img = cv2.imread(chemin_image)\n",
    "\n",
    "        # Conversion de l'image en niveaux de gris\n",
    "        gray_img = cv2.cvtColor(img, cv2.COLOR_BGR2GRAY)\n",
    "\n",
    "        # Application d'un seuillage pour obtenir un masque binaire\n",
    "        _, binary_img = cv2.threshold(gray_img, 0, 255, cv2.THRESH_BINARY_INV + cv2.THRESH_OTSU)\n",
    "\n",
    "        # Suppression du bruit avec une opération de fermeture morphologique\n",
    "        kernel = cv2.getStructuringElement(cv2.MORPH_RECT, (3, 3))\n",
    "        closed_img = cv2.morphologyEx(binary_img, cv2.MORPH_CLOSE, kernel)\n",
    "\n",
    "        # Recherche des contours dans l'image\n",
    "        contours, _ = cv2.findContours(closed_img, cv2.RETR_EXTERNAL, cv2.CHAIN_APPROX_SIMPLE)\n",
    "\n",
    "        # Parcours des contours et extraction des titres\n",
    "        titles = []\n",
    "        for contour in contours:\n",
    "            x, y, w, h = cv2.boundingRect(contour)\n",
    "            if w > 100 and h > 20:  # Filtre pour exclure les petits contours indésirables\n",
    "                title_img = gray_img[y:y+h, x:x+w]\n",
    "                title_text = pytesseract.image_to_string(title_img)\n",
    "                titles.append(title_text.strip())\n",
    "\n",
    "        # Analyse de la présence de chiffre dans le titre\n",
    "        has_number = any(any(char.isdigit() for char in title) for title in titles)\n",
    "\n",
    "        # Ajouter le résultat dans la liste des résultats\n",
    "        resultats.append({\"image\": fichier, \"number\": int(has_number)})\n",
    "\n",
    "# Écrire les résultats dans un fichier CSV\n",
    "chemin_fichier_csv = r\"/Users/dimitriraymond/Documents/Epitech/Semestre 2/DAT/resultc/data483.csv\"\n",
    "with open(chemin_fichier_csv, mode='w', newline='') as fichier_csv:\n",
    "    writer = csv.DictWriter(fichier_csv, fieldnames=[\"image\", \"number\"])\n",
    "    writer.writeheader()  # Écrire l'en-tête du fichier CSV\n",
    "    writer.writerows(resultats)  # Écrire les résultats\n",
    "\n",
    "print(\"Terminé. Les résultats ont été enregistrés dans\", chemin_fichier_csv)"
   ]
  }
 ],
 "metadata": {
  "kernelspec": {
   "display_name": "Python 3",
   "language": "python",
   "name": "python3"
  },
  "language_info": {
   "codemirror_mode": {
    "name": "ipython",
    "version": 3
   },
   "file_extension": ".py",
   "mimetype": "text/x-python",
   "name": "python",
   "nbconvert_exporter": "python",
   "pygments_lexer": "ipython3",
   "version": "3.11.2"
  },
  "orig_nbformat": 4
 },
 "nbformat": 4,
 "nbformat_minor": 2
}
